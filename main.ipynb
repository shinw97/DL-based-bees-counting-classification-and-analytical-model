{
  "nbformat": 4,
  "nbformat_minor": 0,
  "metadata": {
    "colab": {
      "name": "main.ipynb",
      "provenance": [],
      "collapsed_sections": [
        "lxi8rvSvC2J2",
        "lHvzv2XX45mc",
        "K-CmuMYgkmjk",
        "iKNW_572KIPP",
        "IYDu9EokrtmF",
        "xOiQQltxr88p"
      ],
      "toc_visible": true,
      "machine_shape": "hm"
    },
    "kernelspec": {
      "name": "python3",
      "display_name": "Python 3"
    },
    "accelerator": "GPU"
  },
  "cells": [
    {
      "cell_type": "markdown",
      "metadata": {
        "id": "jfbHQLyWz-LJ",
        "colab_type": "text"
      },
      "source": [
        "### **1. Operations on New Virtual Machines**"
      ]
    },
    {
      "cell_type": "markdown",
      "metadata": {
        "id": "uMS8ykkFDZjQ",
        "colab_type": "text"
      },
      "source": [
        "#### 1.1 Upgrade to Tensorflow 2.0, Install dependencies"
      ]
    },
    {
      "cell_type": "code",
      "metadata": {
        "id": "Qec3YKBJDY6k",
        "colab_type": "code",
        "outputId": "6d1a3544-2806-4633-bdd1-34fbdfc390cf",
        "colab": {
          "base_uri": "https://localhost:8080/",
          "height": 83
        }
      },
      "source": [
        "# !pip install tensorflow-gpu\n",
        "!pip install --no-dependencies image-classifiers"
      ],
      "execution_count": 0,
      "outputs": [
        {
          "output_type": "stream",
          "text": [
            "Collecting image-classifiers\n",
            "  Downloading https://files.pythonhosted.org/packages/81/98/6f84720e299a4942ab80df5f76ab97b7828b24d1de5e9b2cbbe6073228b7/image_classifiers-1.0.0-py3-none-any.whl\n",
            "Installing collected packages: image-classifiers\n",
            "Successfully installed image-classifiers-1.0.0\n"
          ],
          "name": "stdout"
        }
      ]
    },
    {
      "cell_type": "markdown",
      "metadata": {
        "id": "lxi8rvSvC2J2",
        "colab_type": "text"
      },
      "source": [
        "#### 1.2 Test if GPU is available"
      ]
    },
    {
      "cell_type": "code",
      "metadata": {
        "id": "zEa8ZzEA_WPc",
        "colab_type": "code",
        "outputId": "fdd80f7a-f5ce-42b8-b3ef-e15adbd292c8",
        "colab": {
          "base_uri": "https://localhost:8080/",
          "height": 33
        }
      },
      "source": [
        "import tensorflow as tf\n",
        "\n",
        "# print(\"Num GPUs Available: \", len(tf.config.experimental.list_physical_devices('GPU')))\n",
        "\n",
        "# tf.debugging.set_log_device_placement(True)\n",
        "\n",
        "# # Create some tensors\n",
        "# a = tf.constant([[1.0, 2.0, 3.0], [4.0, 5.0, 6.0]])\n",
        "# b = tf.constant([[1.0, 2.0], [3.0, 4.0], [5.0, 6.0]])\n",
        "# c = tf.matmul(a, b)\n",
        "# print(c)\n",
        "\n",
        "if tf.test.gpu_device_name():\n",
        "    print('Default GPU Device: {}'.format(tf.test.gpu_device_name()))\n",
        "else:\n",
        "    print(\"Please install GPU version of TF\")\n",
        "\n",
        "# device_name = tf.test.gpu_device_name()\n",
        "# if device_name != '/device:GPU:0':\n",
        "#     raise SystemError('GPU device not found')\n",
        "# print('Found GPU at: {}'.format(device_name))"
      ],
      "execution_count": 0,
      "outputs": [
        {
          "output_type": "stream",
          "text": [
            "Default GPU Device: /device:GPU:0\n"
          ],
          "name": "stdout"
        }
      ]
    },
    {
      "cell_type": "code",
      "metadata": {
        "id": "fY_aGqpL0SYA",
        "colab_type": "code",
        "outputId": "a89392ad-0a34-40d5-e074-c2c5218bedd8",
        "colab": {
          "base_uri": "https://localhost:8080/",
          "height": 284
        }
      },
      "source": [
        "# !mkdir dataset\n",
        "# !cp -r \"/content/drive/My Drive/Colab Notebooks/MARDI-dataset/labelled/\" ./dataset\n",
        "# !ls\n",
        "# !pip freeze\n",
        "import tensorflow.keras.backend as K\n",
        "K.clear_session()\n",
        "!nvidia-smi"
      ],
      "execution_count": 0,
      "outputs": [
        {
          "output_type": "stream",
          "text": [
            "Mon Dec  9 07:38:37 2019       \n",
            "+-----------------------------------------------------------------------------+\n",
            "| NVIDIA-SMI 440.33.01    Driver Version: 418.67       CUDA Version: 10.1     |\n",
            "|-------------------------------+----------------------+----------------------+\n",
            "| GPU  Name        Persistence-M| Bus-Id        Disp.A | Volatile Uncorr. ECC |\n",
            "| Fan  Temp  Perf  Pwr:Usage/Cap|         Memory-Usage | GPU-Util  Compute M. |\n",
            "|===============================+======================+======================|\n",
            "|   0  Tesla P100-PCIE...  Off  | 00000000:00:04.0 Off |                    0 |\n",
            "| N/A   33C    P0    32W / 250W |    265MiB / 16280MiB |      0%      Default |\n",
            "+-------------------------------+----------------------+----------------------+\n",
            "                                                                               \n",
            "+-----------------------------------------------------------------------------+\n",
            "| Processes:                                                       GPU Memory |\n",
            "|  GPU       PID   Type   Process name                             Usage      |\n",
            "|=============================================================================|\n",
            "+-----------------------------------------------------------------------------+\n"
          ],
          "name": "stdout"
        }
      ]
    },
    {
      "cell_type": "markdown",
      "metadata": {
        "id": "ciO0U2P7C6jA",
        "colab_type": "text"
      },
      "source": [
        "#### 1.3 Mount with Google Drive"
      ]
    },
    {
      "cell_type": "code",
      "metadata": {
        "id": "DYzzbYZpzuS9",
        "colab_type": "code",
        "colab": {}
      },
      "source": [
        "from google.colab import drive\n",
        "drive.mount('/content/drive')\n",
        "%cd \"drive/My Drive/Colab Notebooks\""
      ],
      "execution_count": 0,
      "outputs": []
    },
    {
      "cell_type": "markdown",
      "metadata": {
        "id": "Q-uP4k7ODCOB",
        "colab_type": "text"
      },
      "source": [
        "#### 1.4 Speak!"
      ]
    },
    {
      "cell_type": "code",
      "metadata": {
        "id": "4jCuxX1rkg96",
        "colab_type": "code",
        "colab": {}
      },
      "source": [
        "def speak(text):\n",
        "    from IPython.display import Javascript as js, clear_output\n",
        "    # Escape single quotes\n",
        "    text = text.replace(\"'\", r\"\\'\")\n",
        "    display(js(f'''\n",
        "    if(window.speechSynthesis) {{\n",
        "        var synth = window.speechSynthesis;\n",
        "        synth.speak(new window.SpeechSynthesisUtterance('{text}'));\n",
        "    }}\n",
        "    '''))\n",
        "    # Clear the JS so that the notebook doesn't speak again when reopened/refreshed\n",
        "#     clear_output(False)"
      ],
      "execution_count": 0,
      "outputs": []
    },
    {
      "cell_type": "code",
      "metadata": {
        "id": "OcShnPILlYBA",
        "colab_type": "code",
        "outputId": "7ff8f894-675a-4f35-c4e9-c4c7f415ae64",
        "colab": {
          "base_uri": "https://localhost:8080/",
          "height": 17
        }
      },
      "source": [
        "speak('Hi boss, welcome back.')"
      ],
      "execution_count": 0,
      "outputs": [
        {
          "output_type": "display_data",
          "data": {
            "application/javascript": [
              "\n",
              "    if(window.speechSynthesis) {\n",
              "        var synth = window.speechSynthesis;\n",
              "        synth.speak(new window.SpeechSynthesisUtterance('Hi boss, welcome back.'));\n",
              "    }\n",
              "    "
            ],
            "text/plain": [
              "<IPython.core.display.Javascript object>"
            ]
          },
          "metadata": {
            "tags": []
          }
        }
      ]
    },
    {
      "cell_type": "markdown",
      "metadata": {
        "id": "QMumasTo0VVL",
        "colab_type": "text"
      },
      "source": [
        "### **2. Program Codes Start Here**"
      ]
    },
    {
      "cell_type": "markdown",
      "metadata": {
        "id": "lHvzv2XX45mc",
        "colab_type": "text"
      },
      "source": [
        "#### 2.1 Generate Anchors based on Training Sets"
      ]
    },
    {
      "cell_type": "code",
      "metadata": {
        "id": "jvuues2K5EKa",
        "colab_type": "code",
        "colab": {}
      },
      "source": [
        "from k_means_anchors import generate_anchors"
      ],
      "execution_count": 0,
      "outputs": []
    },
    {
      "cell_type": "code",
      "metadata": {
        "id": "Sc6PnBaB5XRd",
        "colab_type": "code",
        "outputId": "9b5e8a96-7dce-4ced-a266-cdf7a9181c44",
        "colab": {
          "base_uri": "https://localhost:8080/",
          "height": 735
        }
      },
      "source": [
        "generate_anchors('MARDI-dataset/labelled/annotations/', 'MARDI-dataset/labelled/images/', ['bee-A', 'bee-B'], 1056, 7)\n",
        "\n",
        "speak('Anchors Generated!')"
      ],
      "execution_count": 0,
      "outputs": [
        {
          "output_type": "stream",
          "text": [
            "iteration 1: dists = 62685.49901184575\n",
            "iteration 2: dists = 6750.775055113117\n",
            "iteration 3: dists = 4095.776469789351\n",
            "iteration 4: dists = 2229.83897316567\n",
            "iteration 5: dists = 1089.0635161198704\n",
            "iteration 6: dists = 611.8322284194287\n",
            "iteration 7: dists = 454.9602448992751\n",
            "iteration 8: dists = 485.82496732916866\n",
            "iteration 9: dists = 513.4432020862406\n",
            "iteration 10: dists = 551.7475972262221\n",
            "iteration 11: dists = 443.3411064632691\n",
            "iteration 12: dists = 343.5092799149165\n",
            "iteration 13: dists = 386.49068982316476\n",
            "iteration 14: dists = 331.80329426121347\n",
            "iteration 15: dists = 348.89090773262006\n",
            "iteration 16: dists = 338.7117428111689\n",
            "iteration 17: dists = 325.01915770192267\n",
            "iteration 18: dists = 237.70602588307165\n",
            "iteration 19: dists = 274.64705696509645\n",
            "iteration 20: dists = 222.40900200485953\n",
            "iteration 21: dists = 275.66417061059246\n",
            "iteration 22: dists = 197.91091432790023\n",
            "iteration 23: dists = 249.92101480129475\n",
            "iteration 24: dists = 215.74414927001882\n",
            "iteration 25: dists = 177.558613356716\n",
            "iteration 26: dists = 178.97271488600506\n",
            "iteration 27: dists = 167.0990267394614\n",
            "iteration 28: dists = 110.77983109717364\n",
            "iteration 29: dists = 58.54565043477381\n",
            "iteration 30: dists = 73.81539412188333\n",
            "iteration 31: dists = 136.5412235725235\n",
            "iteration 32: dists = 117.6982400504344\n",
            "iteration 33: dists = 62.336989693623046\n",
            "iteration 34: dists = 32.332583385716305\n",
            "iteration 35: dists = 25.621337002646516\n",
            "iteration 36: dists = 19.860762686198072\n",
            "iteration 37: dists = 5.520905355276796\n",
            "iteration 38: dists = 4.478121507199211\n",
            "iteration 39: dists = 9.28460435757338\n",
            "iteration 40: dists = 14.793706992604214\n",
            "\n",
            "average IOU for 7 anchors: 0.82\n",
            "anchors: [0.64,1.13, 0.65,1.82, 0.91,1.51, 0.95,2.23, 1.05,1.10, 1.30,1.58, 1.39,2.32]\n"
          ],
          "name": "stdout"
        },
        {
          "output_type": "display_data",
          "data": {
            "application/javascript": [
              "\n",
              "    if(window.speechSynthesis) {\n",
              "        var synth = window.speechSynthesis;\n",
              "        synth.speak(new window.SpeechSynthesisUtterance('Anchors Generated!'));\n",
              "    }\n",
              "    "
            ],
            "text/plain": [
              "<IPython.core.display.Javascript object>"
            ]
          },
          "metadata": {
            "tags": []
          }
        }
      ]
    },
    {
      "cell_type": "markdown",
      "metadata": {
        "id": "fK-FvIcj5Z5n",
        "colab_type": "text"
      },
      "source": [
        "#### 2.2 Initialize network model"
      ]
    },
    {
      "cell_type": "code",
      "metadata": {
        "id": "7xVq7eaM0crG",
        "colab_type": "code",
        "outputId": "19003ab5-ac45-4e35-cc74-261c091510c4",
        "colab": {
          "base_uri": "https://localhost:8080/",
          "height": 62
        }
      },
      "source": [
        "from architecture import VGG16Net\n",
        "from architecture import TinyYoloNet\n",
        "from architecture import YoloNet\n",
        "from architecture import YoloMobileNet\n",
        "from architecture import YoloResNet50\n",
        "from architecture import YoloResNet18"
      ],
      "execution_count": 0,
      "outputs": [
        {
          "output_type": "display_data",
          "data": {
            "text/html": [
              "<p style=\"color: red;\">\n",
              "The default version of TensorFlow in Colab will soon switch to TensorFlow 2.x.<br>\n",
              "We recommend you <a href=\"https://www.tensorflow.org/guide/migrate\" target=\"_blank\">upgrade</a> now \n",
              "or ensure your notebook will continue to use TensorFlow 1.x via the <code>%tensorflow_version 1.x</code> magic:\n",
              "<a href=\"https://colab.research.google.com/notebooks/tensorflow_version.ipynb\" target=\"_blank\">more info</a>.</p>\n"
            ],
            "text/plain": [
              "<IPython.core.display.HTML object>"
            ]
          },
          "metadata": {
            "tags": []
          }
        }
      ]
    },
    {
      "cell_type": "code",
      "metadata": {
        "id": "AzajNEc12W0J",
        "colab_type": "code",
        "outputId": "af24bfb6-60ae-42be-a975-f2fb36dabe28",
        "colab": {
          "base_uri": "https://localhost:8080/",
          "height": 87
        }
      },
      "source": [
        "anchors = [0.64,1.13, 0.65,1.82, 0.91,1.51, 0.95,2.23, 1.05,1.10, 1.30,1.58, 1.39,2.32]\n",
        "\n",
        "# base_net = TinyYoloNet(net_input_size=1056, \n",
        "#                        anchors=anchors, \n",
        "#                        n_class=2, \n",
        "#                        weights_dir=None, \n",
        "#                        labels=['bee-A', 'bee-B'])\n",
        "\n",
        "# base_net = YoloMobileNet(net_input_size=1056, \n",
        "#                        anchors=anchors, \n",
        "#                        n_class=2, \n",
        "#                        weights_dir=None, \n",
        "#                        labels=['bee-A', 'bee-B'])\n",
        "\n",
        "# base_net = YoloNet(net_input_size=1056, \n",
        "#                        anchors=anchors, \n",
        "#                         n_class=2, \n",
        "#                         weights_dir=None, \n",
        "#                         labels=['bee-A', 'bee-B'])\n",
        "\n",
        "# base_net = VGG16Net(net_input_size=1056, \n",
        "#                        anchors=anchors, \n",
        "#                        n_class=2, \n",
        "#                        weights_dir=None,\n",
        "#                        labels=['bee-A', 'bee-B'])\n",
        "\n",
        "# base_net = YoloResNet50(net_input_size=1056, \n",
        "#                        anchors=anchors, \n",
        "#                        n_class=2, \n",
        "#                        weights_dir=None, \n",
        "#                        labels=['bee-A', 'bee-B'])\n",
        "\n",
        "# base_net = YoloResNet18(net_input_size=1056, \n",
        "#                       anchors=anchors, \n",
        "#                       n_class=2, \n",
        "#                       weights_dir=None, \n",
        "#                       labels=['bee-A', 'bee-B'])\n",
        "\n",
        "# base_net = YoloResNet18(net_input_size=1056, \n",
        "#                       anchors=anchors, \n",
        "#                       n_class=1, \n",
        "#                       weights_dir=None, \n",
        "#                       labels=['bee-A'])\n",
        "\n",
        "\n",
        "feature_extractor = base_net.create_base_network(transfer_learning=False)"
      ],
      "execution_count": 0,
      "outputs": [
        {
          "output_type": "stream",
          "text": [
            "WARNING:tensorflow:From /usr/local/lib/python3.6/dist-packages/tensorflow_core/python/ops/resource_variable_ops.py:1630: calling BaseResourceVariable.__init__ (from tensorflow.python.ops.resource_variable_ops) with constraint is deprecated and will be removed in a future version.\n",
            "Instructions for updating:\n",
            "If using Keras pass *_constraint arguments to layers.\n"
          ],
          "name": "stdout"
        }
      ]
    },
    {
      "cell_type": "code",
      "metadata": {
        "id": "0v72ibq94f91",
        "colab_type": "code",
        "outputId": "9d8a8c68-b536-47a2-8c60-f68512f19abe",
        "colab": {
          "base_uri": "https://localhost:8080/",
          "height": 1000
        }
      },
      "source": [
        "feature_extractor.summary()"
      ],
      "execution_count": 0,
      "outputs": [
        {
          "output_type": "stream",
          "text": [
            "Model: \"model\"\n",
            "_________________________________________________________________\n",
            "Layer (type)                 Output Shape              Param #   \n",
            "=================================================================\n",
            "input_1 (InputLayer)         [(None, 1056, 1056, 3)]   0         \n",
            "_________________________________________________________________\n",
            "conv_1 (Conv2D)              (None, 1056, 1056, 16)    432       \n",
            "_________________________________________________________________\n",
            "norm_1 (BatchNormalization)  (None, 1056, 1056, 16)    64        \n",
            "_________________________________________________________________\n",
            "leaky_re_lu (LeakyReLU)      (None, 1056, 1056, 16)    0         \n",
            "_________________________________________________________________\n",
            "max_pooling2d (MaxPooling2D) (None, 528, 528, 16)      0         \n",
            "_________________________________________________________________\n",
            "conv_2 (Conv2D)              (None, 528, 528, 32)      4608      \n",
            "_________________________________________________________________\n",
            "norm_2 (BatchNormalization)  (None, 528, 528, 32)      128       \n",
            "_________________________________________________________________\n",
            "leaky_re_lu_1 (LeakyReLU)    (None, 528, 528, 32)      0         \n",
            "_________________________________________________________________\n",
            "max_pooling2d_1 (MaxPooling2 (None, 264, 264, 32)      0         \n",
            "_________________________________________________________________\n",
            "conv_3 (Conv2D)              (None, 264, 264, 64)      18432     \n",
            "_________________________________________________________________\n",
            "norm_3 (BatchNormalization)  (None, 264, 264, 64)      256       \n",
            "_________________________________________________________________\n",
            "leaky_re_lu_2 (LeakyReLU)    (None, 264, 264, 64)      0         \n",
            "_________________________________________________________________\n",
            "max_pooling2d_2 (MaxPooling2 (None, 132, 132, 64)      0         \n",
            "_________________________________________________________________\n",
            "conv_4 (Conv2D)              (None, 132, 132, 128)     73728     \n",
            "_________________________________________________________________\n",
            "norm_4 (BatchNormalization)  (None, 132, 132, 128)     512       \n",
            "_________________________________________________________________\n",
            "leaky_re_lu_3 (LeakyReLU)    (None, 132, 132, 128)     0         \n",
            "_________________________________________________________________\n",
            "max_pooling2d_3 (MaxPooling2 (None, 66, 66, 128)       0         \n",
            "_________________________________________________________________\n",
            "conv_5 (Conv2D)              (None, 66, 66, 256)       294912    \n",
            "_________________________________________________________________\n",
            "norm_5 (BatchNormalization)  (None, 66, 66, 256)       1024      \n",
            "_________________________________________________________________\n",
            "leaky_re_lu_4 (LeakyReLU)    (None, 66, 66, 256)       0         \n",
            "_________________________________________________________________\n",
            "max_pooling2d_4 (MaxPooling2 (None, 33, 33, 256)       0         \n",
            "_________________________________________________________________\n",
            "conv_6 (Conv2D)              (None, 33, 33, 512)       1179648   \n",
            "_________________________________________________________________\n",
            "norm_6 (BatchNormalization)  (None, 33, 33, 512)       2048      \n",
            "_________________________________________________________________\n",
            "leaky_re_lu_5 (LeakyReLU)    (None, 33, 33, 512)       0         \n",
            "_________________________________________________________________\n",
            "max_pooling2d_5 (MaxPooling2 (None, 33, 33, 512)       0         \n",
            "_________________________________________________________________\n",
            "conv_7 (Conv2D)              (None, 33, 33, 1024)      4718592   \n",
            "_________________________________________________________________\n",
            "norm_7 (BatchNormalization)  (None, 33, 33, 1024)      4096      \n",
            "_________________________________________________________________\n",
            "leaky_re_lu_6 (LeakyReLU)    (None, 33, 33, 1024)      0         \n",
            "_________________________________________________________________\n",
            "conv_8 (Conv2D)              (None, 33, 33, 1024)      9437184   \n",
            "_________________________________________________________________\n",
            "norm_8 (BatchNormalization)  (None, 33, 33, 1024)      4096      \n",
            "_________________________________________________________________\n",
            "leaky_re_lu_7 (LeakyReLU)    (None, 33, 33, 1024)      0         \n",
            "=================================================================\n",
            "Total params: 15,739,760\n",
            "Trainable params: 15,733,648\n",
            "Non-trainable params: 6,112\n",
            "_________________________________________________________________\n"
          ],
          "name": "stdout"
        }
      ]
    },
    {
      "cell_type": "markdown",
      "metadata": {
        "id": "baf9wcp14VgI",
        "colab_type": "text"
      },
      "source": [
        "#### 2.2.1 Other options to initialize the model (not required to run all)"
      ]
    },
    {
      "cell_type": "markdown",
      "metadata": {
        "id": "K-CmuMYgkmjk",
        "colab_type": "text"
      },
      "source": [
        "##### If choose to load pretrained network model:"
      ]
    },
    {
      "cell_type": "code",
      "metadata": {
        "id": "PHQph8aEgJzt",
        "colab_type": "code",
        "outputId": "015b9efb-28b6-4eb7-8f29-44e844d61c3c",
        "colab": {
          "base_uri": "https://localhost:8080/",
          "height": 237
        }
      },
      "source": [
        "from tensorflow.keras.models import load_model\n",
        "# model = load_model('weights_models/resne18-1056-mardi-labelled-onetype461-bee-model.h5', compile=False)\n",
        "\n",
        "base_net.create_model(feature_extractor)\n",
        "\n",
        "model = load_model('Final Model Weights/resnet18-aug-1056-mardi-labelled-twotypes200-bee-model.h5', custom_objects={'custom_loss': base_net.custom_loss})"
      ],
      "execution_count": 0,
      "outputs": [
        {
          "output_type": "stream",
          "text": [
            "WARNING:tensorflow:From /usr/local/lib/python3.6/dist-packages/tensorflow_core/python/ops/init_ops.py:97: calling GlorotUniform.__init__ (from tensorflow.python.ops.init_ops) with dtype is deprecated and will be removed in a future version.\n",
            "Instructions for updating:\n",
            "Call initializer instance with the dtype argument instead of passing it to the constructor\n",
            "WARNING:tensorflow:From /usr/local/lib/python3.6/dist-packages/tensorflow_core/python/ops/init_ops.py:97: calling Zeros.__init__ (from tensorflow.python.ops.init_ops) with dtype is deprecated and will be removed in a future version.\n",
            "Instructions for updating:\n",
            "Call initializer instance with the dtype argument instead of passing it to the constructor\n",
            "WARNING:tensorflow:From /usr/local/lib/python3.6/dist-packages/tensorflow_core/python/ops/init_ops.py:97: calling VarianceScaling.__init__ (from tensorflow.python.ops.init_ops) with dtype is deprecated and will be removed in a future version.\n",
            "Instructions for updating:\n",
            "Call initializer instance with the dtype argument instead of passing it to the constructor\n",
            "WARNING:tensorflow:From /usr/local/lib/python3.6/dist-packages/tensorflow_core/python/ops/math_grad.py:1424: where (from tensorflow.python.ops.array_ops) is deprecated and will be removed in a future version.\n",
            "Instructions for updating:\n",
            "Use tf.where in 2.0, which has the same broadcast rule as np.where\n"
          ],
          "name": "stdout"
        }
      ]
    },
    {
      "cell_type": "markdown",
      "metadata": {
        "id": "mEHEkccE8_fD",
        "colab_type": "text"
      },
      "source": [
        "##### If choose to load pretrained weights:"
      ]
    },
    {
      "cell_type": "code",
      "metadata": {
        "id": "f11STc109GrV",
        "colab_type": "code",
        "colab": {}
      },
      "source": [
        "model = base_net.create_model(feature_extractor)\n",
        "model.load_weights('Final Model Weights/resnet18-aug-1056-mardi-labelled-twotypes200-bee-weights.h5')\n",
        "model.summary()"
      ],
      "execution_count": 0,
      "outputs": []
    },
    {
      "cell_type": "markdown",
      "metadata": {
        "id": "hRUANiLOwI4v",
        "colab_type": "text"
      },
      "source": [
        "##### If choose to load pretrained weights that does not match fully with self network:"
      ]
    },
    {
      "cell_type": "code",
      "metadata": {
        "id": "mAJQA50ytmVN",
        "colab_type": "code",
        "colab": {}
      },
      "source": [
        "from tensorflow.keras.models import load_model\n",
        "\n",
        "model_test = load_model('Final Model Weights/resnet18-aug-1056-mardi-labelled-twotypes200-bee-model', compile=False)\n",
        "# model_test.summary()\n",
        "\n",
        "pretrained_layers = model_test.layers[-3].layers\n",
        "\n",
        "for i in range(len(feature_extractor.layers)):\n",
        "    feature_extractor.layers[i].set_weights(pretrained_layers[i].get_weights())"
      ],
      "execution_count": 0,
      "outputs": []
    },
    {
      "cell_type": "markdown",
      "metadata": {
        "id": "If_bzDKAQhF_",
        "colab_type": "text"
      },
      "source": [
        "#### 2.3 Else, continue without pretrained weights"
      ]
    },
    {
      "cell_type": "code",
      "metadata": {
        "id": "nDL3UeIF5TjB",
        "colab_type": "code",
        "colab": {}
      },
      "source": [
        "model = base_net.create_model(feature_extractor)"
      ],
      "execution_count": 0,
      "outputs": []
    },
    {
      "cell_type": "code",
      "metadata": {
        "id": "PsBl85vP6qJC",
        "colab_type": "code",
        "outputId": "c258328f-02c6-428b-b864-345aa8ede73d",
        "colab": {
          "base_uri": "https://localhost:8080/",
          "height": 284
        }
      },
      "source": [
        "model.summary()"
      ],
      "execution_count": 0,
      "outputs": [
        {
          "output_type": "stream",
          "text": [
            "Model: \"model_1\"\n",
            "_________________________________________________________________\n",
            "Layer (type)                 Output Shape              Param #   \n",
            "=================================================================\n",
            "input_2 (InputLayer)         [(None, 1056, 1056, 3)]   0         \n",
            "_________________________________________________________________\n",
            "model (Model)                (None, 33, 33, 512)       14714688  \n",
            "_________________________________________________________________\n",
            "DetectionLayer (Conv2D)      (None, 33, 33, 49)        25137     \n",
            "_________________________________________________________________\n",
            "reshape (Reshape)            (None, 33, 33, 7, 7)      0         \n",
            "=================================================================\n",
            "Total params: 14,739,825\n",
            "Trainable params: 14,739,825\n",
            "Non-trainable params: 0\n",
            "_________________________________________________________________\n"
          ],
          "name": "stdout"
        }
      ]
    },
    {
      "cell_type": "markdown",
      "metadata": {
        "id": "S97kRyUq68jG",
        "colab_type": "text"
      },
      "source": [
        "### **3. Load Dataset**"
      ]
    },
    {
      "cell_type": "markdown",
      "metadata": {
        "id": "ZX8jYeDG6VOe",
        "colab_type": "text"
      },
      "source": [
        "#### 3.1.1 If presaved pickle is available"
      ]
    },
    {
      "cell_type": "code",
      "metadata": {
        "id": "HfbJuQpwIuqF",
        "colab_type": "code",
        "colab": {}
      },
      "source": [
        "import pickle\n",
        "\n",
        "with open('imgs.pkl', 'rb') as imgs_file:\n",
        "    imgs = pickle.load(imgs_file)"
      ],
      "execution_count": 0,
      "outputs": []
    },
    {
      "cell_type": "markdown",
      "metadata": {
        "id": "esZeEQrc6gRq",
        "colab_type": "text"
      },
      "source": [
        "#### 3.1.2 Else, continue to load all xml annotations, save the instance with pickle is encouraged"
      ]
    },
    {
      "cell_type": "code",
      "metadata": {
        "id": "FHu3L7MT84xv",
        "colab_type": "code",
        "colab": {}
      },
      "source": [
        "from utils import parse_annotation"
      ],
      "execution_count": 0,
      "outputs": []
    },
    {
      "cell_type": "code",
      "metadata": {
        "id": "j1nHJxAc6t2j",
        "colab_type": "code",
        "colab": {}
      },
      "source": [
        "# imgs, _ = parse_annotation('MARDI-dataset/train-test-split/annotations/', 'MARDI-dataset/train-test-split/images/', ['bee-A', 'bee-B'])\n",
        "# test_imgs, _ = parse_annotation('MARDI-dataset/train-test-split/test-annotations/', 'MARDI-dataset/train-test-split/test-images/', ['bee-A', 'bee-B'])\n",
        "\n",
        "# imgs, _ = parse_annotation('MARDI-dataset/labelled/annotations/', 'MARDI-dataset/labelled/images/', ['bee-A', 'bee-B'])\n",
        "imgs, _ = parse_annotation('MARDI-dataset/two-types-training/annotations/', 'MARDI-dataset/two-types-training/images/', ['bee-A', 'bee-B'])"
      ],
      "execution_count": 0,
      "outputs": []
    },
    {
      "cell_type": "code",
      "metadata": {
        "id": "0B3bWVzw7QDs",
        "colab_type": "code",
        "colab": {}
      },
      "source": [
        "import pickle\n",
        "\n",
        "with open('imgs.pkl', 'wb') as imgs_file:\n",
        "\tpickle.dump(imgs, imgs_file) "
      ],
      "execution_count": 0,
      "outputs": []
    },
    {
      "cell_type": "markdown",
      "metadata": {
        "id": "DsvUb4vb7VAM",
        "colab_type": "text"
      },
      "source": [
        "#### 3.2 Operations on datasets"
      ]
    },
    {
      "cell_type": "code",
      "metadata": {
        "id": "FlEV2UjatlU5",
        "colab_type": "code",
        "colab": {}
      },
      "source": [
        "import random\n",
        "random.Random(2).shuffle(imgs)\n",
        "# random.shuffle(imgs)"
      ],
      "execution_count": 0,
      "outputs": []
    },
    {
      "cell_type": "code",
      "metadata": {
        "id": "EeOgWatvj0ie",
        "colab_type": "code",
        "colab": {}
      },
      "source": [
        "test_imgs = imgs[:60]\n",
        "imgs = imgs[60:]"
      ],
      "execution_count": 0,
      "outputs": []
    },
    {
      "cell_type": "code",
      "metadata": {
        "id": "3-eF1jvhm0SC",
        "colab_type": "code",
        "colab": {}
      },
      "source": [
        "# Train-Test-Val split\n",
        "import math\n",
        "\n",
        "n_test_set = math.floor(len(imgs) * 0.2)\n",
        "\n",
        "test_imgs = imgs[:n_test_set]\n",
        "imgs = imgs[n_test_set:]\n",
        "\n",
        "n_val_set = math.floor(len(imgs) * 0.1)\n",
        "val_imgs = imgs[:n_val_set]\n",
        "imgs = imgs[n_val_set:]"
      ],
      "execution_count": 0,
      "outputs": []
    },
    {
      "cell_type": "code",
      "metadata": {
        "id": "PyYcUa9prM0d",
        "colab_type": "code",
        "outputId": "b73463b3-8165-4019-d2f2-c49c32573de7",
        "colab": {
          "base_uri": "https://localhost:8080/",
          "height": 67
        }
      },
      "source": [
        "print(len(imgs))\n",
        "print(len(val_imgs))\n",
        "print(len(test_imgs))"
      ],
      "execution_count": 0,
      "outputs": [
        {
          "output_type": "stream",
          "text": [
            "722\n",
            "80\n",
            "200\n"
          ],
          "name": "stdout"
        }
      ]
    },
    {
      "cell_type": "markdown",
      "metadata": {
        "id": "iKNW_572KIPP",
        "colab_type": "text"
      },
      "source": [
        "#### 3.3 If generating pure Xy train-test set is needed (not required to run all)"
      ]
    },
    {
      "cell_type": "code",
      "metadata": {
        "id": "Db42by0U7KWQ",
        "colab_type": "code",
        "colab": {}
      },
      "source": [
        "# X_train, y_train = generate_Xy(imgs=imgs, \n",
        "#                                labels=['raccoon'], \n",
        "#                                anchors=anchors, \n",
        "#                                n_grid=7, \n",
        "#                                net_input_size=224, \n",
        "#                                n_class=1, \n",
        "#                                normalize=base_net.normalize)\n",
        "\n",
        "# X_test, y_test = generate_Xy(imgs=test_imgs, \n",
        "#                              labels=['bee-A'], \n",
        "#                              anchors=anchors, \n",
        "#                              n_grid=19, \n",
        "#                              net_input_size=608, \n",
        "#                              n_class=1, \n",
        "#                              normalize=base_net.normalize)"
      ],
      "execution_count": 0,
      "outputs": []
    },
    {
      "cell_type": "code",
      "metadata": {
        "id": "6E-pARXz7hKY",
        "colab_type": "code",
        "colab": {}
      },
      "source": [
        "# print(X_train.shape)\n",
        "# print(y_train.shape)"
      ],
      "execution_count": 0,
      "outputs": []
    },
    {
      "cell_type": "markdown",
      "metadata": {
        "id": "Om2AGzKjB1wu",
        "colab_type": "text"
      },
      "source": [
        "### **4. Train Model**"
      ]
    },
    {
      "cell_type": "markdown",
      "metadata": {
        "id": "xOiQQltxr88p",
        "colab_type": "text"
      },
      "source": [
        "#### 4.1 Optional Configurations (Tensorboard, etc)"
      ]
    },
    {
      "cell_type": "code",
      "metadata": {
        "id": "k6wg8rQ-ZduE",
        "colab_type": "code",
        "colab": {}
      },
      "source": [
        "# %load_ext tensorboard\n",
        "\n",
        "# import datetime, os\n",
        "# from keras.callbacks import TensorBoard\n",
        "\n",
        "# logdir = os.path.join(\"logs\", datetime.datetime.now().strftime(\"%Y%m%d-%H%M%S\"))\n",
        "# tensorboard_callback = TensorBoard(logdir, histogram_freq=1)"
      ],
      "execution_count": 0,
      "outputs": []
    },
    {
      "cell_type": "code",
      "metadata": {
        "id": "JD9K_eHTaWqD",
        "colab_type": "code",
        "colab": {}
      },
      "source": [
        "# %tensorboard --logdir logs\n",
        "# from tensorboard import notebook\n",
        "# notebook.list()"
      ],
      "execution_count": 0,
      "outputs": []
    },
    {
      "cell_type": "markdown",
      "metadata": {
        "id": "qKVLjNrmsCkC",
        "colab_type": "text"
      },
      "source": [
        "#### 4.2 Compile Model"
      ]
    },
    {
      "cell_type": "code",
      "metadata": {
        "id": "DjQNIhuhBwgr",
        "colab_type": "code",
        "colab": {}
      },
      "source": [
        "from tensorflow.keras.optimizers import Adam, SGD\n",
        "learning_rate = 1e-4\n",
        "EPOCHS = 100\n",
        "decay = learning_rate / EPOCH\n",
        "\n",
        "optimizer = Adam(lr=learning_rate, beta_1=0.9, beta_2=0.999, epsilon=1e-08, decay=0.0)\n",
        "BATCH_SIZE = 2\n",
        "VAL_BATCH_SIZE = 2\n",
        "\n",
        "train_loss = []\n",
        "val_loss = []"
      ],
      "execution_count": 0,
      "outputs": []
    },
    {
      "cell_type": "code",
      "metadata": {
        "id": "oH0VQo6A0Par",
        "colab_type": "code",
        "colab": {}
      },
      "source": [
        "model = base_net.compile_model(model, optimizer)"
      ],
      "execution_count": 0,
      "outputs": []
    },
    {
      "cell_type": "markdown",
      "metadata": {
        "id": "Eu5AKBrxcs0d",
        "colab_type": "text"
      },
      "source": [
        "#### 4.3 Callbacks - Custom Model Evaluation/Early Stopping"
      ]
    },
    {
      "cell_type": "code",
      "metadata": {
        "id": "GmnWdeEO9yIx",
        "colab_type": "code",
        "colab": {}
      },
      "source": [
        "model_save_path = 'Final Model Weights/vgg16-noaug-1056-mardi-labelled-twotypes200-bee-model.h5'\n",
        "weights_save_path = 'Final Model Weights/vgg16-noaug-1056-mardi-labelled-twotypes200-bee-weights.h5'"
      ],
      "execution_count": 0,
      "outputs": []
    },
    {
      "cell_type": "code",
      "metadata": {
        "id": "fNkf6PwqcymY",
        "colab_type": "code",
        "colab": {}
      },
      "source": [
        "from tensorflow.keras.callbacks import Callback\n",
        "from tensorflow.keras.callbacks import EarlyStopping\n",
        "\n",
        "class EvaluationMAP(Callback):\n",
        "    def __init__(self, base_net, test_imgs, obj_threshold, nms_threshold, iou_threshold, patience=10):\n",
        "        super(Callback, self).__init__()\n",
        "        self.base_net = base_net\n",
        "        self.test_imgs = test_imgs\n",
        "        self.obj_threshold = obj_threshold\n",
        "        self.nms_threshold = nms_threshold\n",
        "        self.iou_threshold = iou_threshold\n",
        "        \n",
        "        self.maximum_map = float('-inf')\n",
        "        self.patience = patience\n",
        "        self.wait = 0\n",
        "        self.best_weights = None\n",
        "        self.best_epoch = 0\n",
        "        self.all_logs = {'val_loss': [], 'train_loss': [], 'mAP': [], 'aIOU': []}\n",
        "    \n",
        "    def on_epoch_end(self, epoch, logs=None):\n",
        "        # base_net.evaluate(self.model, self.test_imgs, self.obj_threshold, self.nms_threshold)[0]\n",
        "        self.all_logs['val_loss'].append(logs['val_loss'])\n",
        "        self.all_logs['train_loss'].append(logs['loss'])\n",
        "        if(logs['loss'] < 0.15):\n",
        "            print()\n",
        "            print('Evaluating...')\n",
        "            current_map = base_net.evaluate(self.model, self.test_imgs, self.obj_threshold, self.nms_threshold, self.iou_threshold)\n",
        "            self.all_logs['mAP'].append(current_map[1])\n",
        "            self.all_logs['aIOU'].append(current_map[2])\n",
        "            print()\n",
        "            if self.maximum_map <= current_map[0]:\n",
        "                self.maximum_map = current_map[0]\n",
        "                self.wait = 0\n",
        "                self.best_weights = self.model.get_weights()\n",
        "                self.best_epoch = epoch\n",
        "                speak('current average precision: ' + str(round(self.maximum_map * 100, 2)) + \"%\")\n",
        "                model.save(model_save_path)\n",
        "                model.save_weights(weights_save_path)\n",
        "\n",
        "            else:\n",
        "                self.wait += 1\n",
        "                if self.wait == self.patience:\n",
        "                    print()\n",
        "                    speak('Patience reached, restore best model from epoch ' + str(self.best_epoch))\n",
        "                    print('Patience reached, restore best model from epoch ' + str(self.best_epoch))\n",
        "                    self.model.stop_training = True\n",
        "                    self.model.set_weights(self.best_weights)\n",
        "                else:\n",
        "                    print('model not improving since epoch ' + str(self.best_epoch))\n",
        "                    speak('model not improving since epoch ' + str(self.best_epoch))\n",
        "            print()\n",
        "        else:\n",
        "            print('\\nmodel not improving since epoch ' + str(self.best_epoch))\n",
        "            speak('model not improving since epoch ' + str(self.best_epoch))\n",
        "            # self.wait +=1\n",
        "            self.all_logs['mAP'].append(0)\n",
        "            self.all_logs['aIOU'].append(0)\n",
        "            if self.wait == self.patience:\n",
        "                print()\n",
        "                speak('Patience reached, restore best model from epoch ' + str(self.best_epoch))\n",
        "                print('Patience reached, restore best model from epoch ' + str(self.best_epoch))\n",
        "                self.model.stop_training = True\n",
        "                self.model.set_weights(self.best_weights)"
      ],
      "execution_count": 0,
      "outputs": []
    },
    {
      "cell_type": "code",
      "metadata": {
        "id": "JzKpuAgpiEQH",
        "colab_type": "code",
        "colab": {}
      },
      "source": [
        "map_callback = EvaluationMAP(base_net, test_imgs, obj_threshold=0.025, nms_threshold=0.2, iou_threshold=0.3)\n",
        "# early_stopping = EarlyStopping(monitor='val_loss', patience=8, verbose=1)"
      ],
      "execution_count": 0,
      "outputs": []
    },
    {
      "cell_type": "markdown",
      "metadata": {
        "id": "FPkHyX94Q5yO",
        "colab_type": "text"
      },
      "source": [
        "#### 4.4.1 Train with fit_generator (Encouraged)"
      ]
    },
    {
      "cell_type": "code",
      "metadata": {
        "id": "oQk3UAN3DDvt",
        "colab_type": "code",
        "colab": {}
      },
      "source": [
        "train_gen = base_net.set_generator(imgs=imgs, batch_size=BATCH_SIZE, aug=False)\n",
        "val_gen = base_net.set_generator(imgs=test_imgs, batch_size=VAL_BATCH_SIZE, aug=False)\n",
        "# test_gen = base_net.set_generator(imgs=test_imgs, batch_size=VAL_BATCH_SIZE, aug=False)"
      ],
      "execution_count": 0,
      "outputs": []
    },
    {
      "cell_type": "code",
      "metadata": {
        "id": "db9g6FRrDtJY",
        "colab_type": "code",
        "outputId": "b4bea305-a854-425d-a999-ddb2f16235ba",
        "colab": {
          "base_uri": "https://localhost:8080/",
          "height": 1000
        }
      },
      "source": [
        "history = model.fit_generator(generator=train_gen, \n",
        "                    steps_per_epoch=len(imgs)//BATCH_SIZE,\n",
        "                    epochs=EPOCHS,\n",
        "                    validation_data=val_gen,\n",
        "                    validation_steps=len(test_imgs)//VAL_BATCH_SIZE,\n",
        "                    # initial_epoch=2,\n",
        "                    callbacks=[map_callback]\n",
        "                    # validation_data=(X_test, y_test), \n",
        "                   )\n",
        "speak('Training Completed.')"
      ],
      "execution_count": 0,
      "outputs": [
        {
          "output_type": "stream",
          "text": [
            "Epoch 1/100\n",
            "119/120 [============================>.] - ETA: 0s - loss: 0.1164Epoch 1/100\n",
            " 30/120 [======>.......................] - ETA: 14s - loss: 0.1536\n",
            "Evaluating...\n",
            "bee-A 0.0037\n",
            "bee-B 0.0002\n",
            "mAP: 0.0019\n",
            "average IOU: 0.0178\n",
            "\n",
            "model not improving since epoch 3\n"
          ],
          "name": "stdout"
        },
        {
          "output_type": "display_data",
          "data": {
            "application/javascript": [
              "\n",
              "    if(window.speechSynthesis) {\n",
              "        var synth = window.speechSynthesis;\n",
              "        synth.speak(new window.SpeechSynthesisUtterance('model not improving since epoch 3'));\n",
              "    }\n",
              "    "
            ],
            "text/plain": [
              "<IPython.core.display.Javascript object>"
            ]
          },
          "metadata": {
            "tags": []
          }
        },
        {
          "output_type": "stream",
          "text": [
            "\n",
            "\b\b\b\b\b\b\b\b\b\b\b\b\b\b\b\b\b\b\b\b\b\b\b\b\b\b\b\b\b\b\b\b\b\b\b\b\b\b\b\b\b\b\b\b\b\b\b\b\b\b\b\b\b\b\b\b\b\b\b\b\b\b\b\b\b\r120/120 [==============================] - 85s 710ms/step - loss: 0.1157 - val_loss: 0.1536\n",
            "Epoch 2/100\n",
            "119/120 [============================>.] - ETA: 0s - loss: 0.1109Epoch 1/100\n",
            " 30/120 [======>.......................] - ETA: 14s - loss: 0.1190\n",
            "Evaluating...\n",
            "bee-A 0.0002\n",
            "bee-B 0.0000\n",
            "mAP: 0.0001\n",
            "average IOU: 0.0066\n",
            "\n",
            "model not improving since epoch 3\n"
          ],
          "name": "stdout"
        },
        {
          "output_type": "display_data",
          "data": {
            "application/javascript": [
              "\n",
              "    if(window.speechSynthesis) {\n",
              "        var synth = window.speechSynthesis;\n",
              "        synth.speak(new window.SpeechSynthesisUtterance('model not improving since epoch 3'));\n",
              "    }\n",
              "    "
            ],
            "text/plain": [
              "<IPython.core.display.Javascript object>"
            ]
          },
          "metadata": {
            "tags": []
          }
        },
        {
          "output_type": "stream",
          "text": [
            "\n",
            "\b\b\b\b\b\b\b\b\b\b\b\b\b\b\b\b\b\b\b\b\b\b\b\b\b\b\b\b\b\b\b\b\b\b\b\b\b\b\b\b\b\b\b\b\b\b\b\b\b\b\b\b\b\b\b\b\b\b\b\b\b\b\b\b\b\r120/120 [==============================] - 66s 552ms/step - loss: 0.1103 - val_loss: 0.1190\n",
            "Epoch 3/100\n",
            "119/120 [============================>.] - ETA: 0s - loss: 0.0834Epoch 1/100\n",
            " 30/120 [======>.......................] - ETA: 14s - loss: 0.1399\n",
            "Evaluating...\n",
            "bee-A 0.0001\n",
            "bee-B 0.0000\n",
            "mAP: 0.0000\n",
            "average IOU: 0.0045\n",
            "\n",
            "model not improving since epoch 3\n"
          ],
          "name": "stdout"
        },
        {
          "output_type": "display_data",
          "data": {
            "application/javascript": [
              "\n",
              "    if(window.speechSynthesis) {\n",
              "        var synth = window.speechSynthesis;\n",
              "        synth.speak(new window.SpeechSynthesisUtterance('model not improving since epoch 3'));\n",
              "    }\n",
              "    "
            ],
            "text/plain": [
              "<IPython.core.display.Javascript object>"
            ]
          },
          "metadata": {
            "tags": []
          }
        },
        {
          "output_type": "stream",
          "text": [
            "\n",
            "\b\b\b\b\b\b\b\b\b\b\b\b\b\b\b\b\b\b\b\b\b\b\b\b\b\b\b\b\b\b\b\b\b\b\b\b\b\b\b\b\b\b\b\b\b\b\b\b\b\b\b\b\b\b\b\b\b\b\b\b\b\b\b\b\b\r120/120 [==============================] - 64s 536ms/step - loss: 0.0830 - val_loss: 0.1399\n",
            "Epoch 4/100\n",
            "119/120 [============================>.] - ETA: 0s - loss: 0.0629Epoch 1/100\n",
            " 30/120 [======>.......................] - ETA: 13s - loss: 0.1414\n",
            "Evaluating...\n",
            "bee-A 0.0001\n",
            "bee-B 0.0000\n",
            "mAP: 0.0000\n",
            "average IOU: 0.0037\n",
            "\n",
            "model not improving since epoch 3\n"
          ],
          "name": "stdout"
        },
        {
          "output_type": "display_data",
          "data": {
            "application/javascript": [
              "\n",
              "    if(window.speechSynthesis) {\n",
              "        var synth = window.speechSynthesis;\n",
              "        synth.speak(new window.SpeechSynthesisUtterance('model not improving since epoch 3'));\n",
              "    }\n",
              "    "
            ],
            "text/plain": [
              "<IPython.core.display.Javascript object>"
            ]
          },
          "metadata": {
            "tags": []
          }
        },
        {
          "output_type": "stream",
          "text": [
            "\n",
            "\b\b\b\b\b\b\b\b\b\b\b\b\b\b\b\b\b\b\b\b\b\b\b\b\b\b\b\b\b\b\b\b\b\b\b\b\b\b\b\b\b\b\b\b\b\b\b\b\b\b\b\b\b\b\b\b\b\b\b\b\b\b\b\b\b\r120/120 [==============================] - 63s 525ms/step - loss: 0.0626 - val_loss: 0.1414\n",
            "Epoch 5/100\n",
            "119/120 [============================>.] - ETA: 0s - loss: 0.0560Epoch 1/100\n",
            " 30/120 [======>.......................] - ETA: 13s - loss: 0.1432\n",
            "Evaluating...\n",
            "bee-A 0.0003\n",
            "bee-B 0.0000\n",
            "mAP: 0.0001\n",
            "average IOU: 0.0102\n",
            "\n",
            "model not improving since epoch 3\n"
          ],
          "name": "stdout"
        },
        {
          "output_type": "display_data",
          "data": {
            "application/javascript": [
              "\n",
              "    if(window.speechSynthesis) {\n",
              "        var synth = window.speechSynthesis;\n",
              "        synth.speak(new window.SpeechSynthesisUtterance('model not improving since epoch 3'));\n",
              "    }\n",
              "    "
            ],
            "text/plain": [
              "<IPython.core.display.Javascript object>"
            ]
          },
          "metadata": {
            "tags": []
          }
        },
        {
          "output_type": "stream",
          "text": [
            "\n",
            "\b\b\b\b\b\b\b\b\b\b\b\b\b\b\b\b\b\b\b\b\b\b\b\b\b\b\b\b\b\b\b\b\b\b\b\b\b\b\b\b\b\b\b\b\b\b\b\b\b\b\b\b\b\b\b\b\b\b\b\b\b\b\b\b\b\r120/120 [==============================] - 63s 525ms/step - loss: 0.0558 - val_loss: 0.1432\n",
            "Epoch 6/100\n",
            "119/120 [============================>.] - ETA: 0s - loss: 0.0491Epoch 1/100\n",
            " 30/120 [======>.......................] - ETA: 13s - loss: 0.1203\n",
            "Evaluating...\n",
            "bee-A 0.0000\n",
            "bee-B 0.0000\n",
            "mAP: 0.0000\n",
            "average IOU: 0.0035\n",
            "\n",
            "model not improving since epoch 3\n"
          ],
          "name": "stdout"
        },
        {
          "output_type": "display_data",
          "data": {
            "application/javascript": [
              "\n",
              "    if(window.speechSynthesis) {\n",
              "        var synth = window.speechSynthesis;\n",
              "        synth.speak(new window.SpeechSynthesisUtterance('model not improving since epoch 3'));\n",
              "    }\n",
              "    "
            ],
            "text/plain": [
              "<IPython.core.display.Javascript object>"
            ]
          },
          "metadata": {
            "tags": []
          }
        },
        {
          "output_type": "stream",
          "text": [
            "\n",
            "\b\b\b\b\b\b\b\b\b\b\b\b\b\b\b\b\b\b\b\b\b\b\b\b\b\b\b\b\b\b\b\b\b\b\b\b\b\b\b\b\b\b\b\b\b\b\b\b\b\b\b\b\b\b\b\b\b\b\b\b\b\b\b\b\b\r120/120 [==============================] - 63s 526ms/step - loss: 0.0488 - val_loss: 0.1203\n",
            "Epoch 7/100\n",
            "119/120 [============================>.] - ETA: 0s - loss: 0.5113Epoch 1/100\n",
            " 30/120 [======>.......................] - ETA: 13s - loss: 0.1798\n",
            "model not improving since epoch 3\n"
          ],
          "name": "stdout"
        },
        {
          "output_type": "display_data",
          "data": {
            "application/javascript": [
              "\n",
              "    if(window.speechSynthesis) {\n",
              "        var synth = window.speechSynthesis;\n",
              "        synth.speak(new window.SpeechSynthesisUtterance('model not improving since epoch 3'));\n",
              "    }\n",
              "    "
            ],
            "text/plain": [
              "<IPython.core.display.Javascript object>"
            ]
          },
          "metadata": {
            "tags": []
          }
        },
        {
          "output_type": "stream",
          "text": [
            "\b\b\b\b\b\b\b\b\b\b\b\b\b\b\b\b\b\b\b\b\b\b\b\b\b\b\b\b\b\b\b\b\b\b\b\b\b\b\b\b\b\b\b\b\b\b\b\b\b\b\b\b\b\b\b\b\b\b\b\b\b\b\b\b\b\r120/120 [==============================] - 52s 435ms/step - loss: 0.5077 - val_loss: 0.1798\n",
            "Epoch 8/100\n",
            "119/120 [============================>.] - ETA: 0s - loss: 0.1664Epoch 1/100\n",
            " 30/120 [======>.......................] - ETA: 14s - loss: 0.1406\n",
            "model not improving since epoch 3\n"
          ],
          "name": "stdout"
        },
        {
          "output_type": "display_data",
          "data": {
            "application/javascript": [
              "\n",
              "    if(window.speechSynthesis) {\n",
              "        var synth = window.speechSynthesis;\n",
              "        synth.speak(new window.SpeechSynthesisUtterance('model not improving since epoch 3'));\n",
              "    }\n",
              "    "
            ],
            "text/plain": [
              "<IPython.core.display.Javascript object>"
            ]
          },
          "metadata": {
            "tags": []
          }
        },
        {
          "output_type": "stream",
          "text": [
            "\b\b\b\b\b\b\b\b\b\b\b\b\b\b\b\b\b\b\b\b\b\b\b\b\b\b\b\b\b\b\b\b\b\b\b\b\b\b\b\b\b\b\b\b\b\b\b\b\b\b\b\b\b\b\b\b\b\b\b\b\b\b\b\b\b\r120/120 [==============================] - 52s 436ms/step - loss: 0.1654 - val_loss: 0.1406\n",
            "Epoch 9/100\n",
            "119/120 [============================>.] - ETA: 0s - loss: 0.0790Epoch 1/100\n",
            " 30/120 [======>.......................] - ETA: 14s - loss: 0.1396\n",
            "Evaluating...\n",
            "bee-A 0.0000\n",
            "bee-B 0.0000\n",
            "mAP: 0.0000\n",
            "average IOU: 0.0000\n",
            "\n",
            "model not improving since epoch 3\n"
          ],
          "name": "stdout"
        },
        {
          "output_type": "display_data",
          "data": {
            "application/javascript": [
              "\n",
              "    if(window.speechSynthesis) {\n",
              "        var synth = window.speechSynthesis;\n",
              "        synth.speak(new window.SpeechSynthesisUtterance('model not improving since epoch 3'));\n",
              "    }\n",
              "    "
            ],
            "text/plain": [
              "<IPython.core.display.Javascript object>"
            ]
          },
          "metadata": {
            "tags": []
          }
        },
        {
          "output_type": "stream",
          "text": [
            "\n",
            "\b\b\b\b\b\b\b\b\b\b\b\b\b\b\b\b\b\b\b\b\b\b\b\b\b\b\b\b\b\b\b\b\b\b\b\b\b\b\b\b\b\b\b\b\b\b\b\b\b\b\b\b\b\b\b\b\b\b\b\b\b\b\b\b\b\r120/120 [==============================] - 63s 527ms/step - loss: 0.0785 - val_loss: 0.1396\n",
            "Epoch 10/100\n",
            "119/120 [============================>.] - ETA: 0s - loss: 0.0655Epoch 1/100\n",
            " 30/120 [======>.......................] - ETA: 13s - loss: 0.1321\n",
            "Evaluating...\n",
            "bee-A 0.0000\n",
            "bee-B 0.0000\n",
            "mAP: 0.0000\n",
            "average IOU: 0.0029\n",
            "\n",
            "model not improving since epoch 3\n"
          ],
          "name": "stdout"
        },
        {
          "output_type": "display_data",
          "data": {
            "application/javascript": [
              "\n",
              "    if(window.speechSynthesis) {\n",
              "        var synth = window.speechSynthesis;\n",
              "        synth.speak(new window.SpeechSynthesisUtterance('model not improving since epoch 3'));\n",
              "    }\n",
              "    "
            ],
            "text/plain": [
              "<IPython.core.display.Javascript object>"
            ]
          },
          "metadata": {
            "tags": []
          }
        },
        {
          "output_type": "stream",
          "text": [
            "\n",
            "\b\b\b\b\b\b\b\b\b\b\b\b\b\b\b\b\b\b\b\b\b\b\b\b\b\b\b\b\b\b\b\b\b\b\b\b\b\b\b\b\b\b\b\b\b\b\b\b\b\b\b\b\b\b\b\b\b\b\b\b\b\b\b\b\b\r120/120 [==============================] - 65s 544ms/step - loss: 0.0652 - val_loss: 0.1321\n",
            "Epoch 11/100\n",
            "119/120 [============================>.] - ETA: 0s - loss: 0.0483Epoch 1/100\n",
            " 30/120 [======>.......................] - ETA: 14s - loss: 0.1253\n",
            "Evaluating...\n",
            "bee-A 0.0000\n",
            "bee-B 0.0000\n",
            "mAP: 0.0000\n",
            "average IOU: 0.0000\n",
            "\n",
            "model not improving since epoch 3\n"
          ],
          "name": "stdout"
        },
        {
          "output_type": "display_data",
          "data": {
            "application/javascript": [
              "\n",
              "    if(window.speechSynthesis) {\n",
              "        var synth = window.speechSynthesis;\n",
              "        synth.speak(new window.SpeechSynthesisUtterance('model not improving since epoch 3'));\n",
              "    }\n",
              "    "
            ],
            "text/plain": [
              "<IPython.core.display.Javascript object>"
            ]
          },
          "metadata": {
            "tags": []
          }
        },
        {
          "output_type": "stream",
          "text": [
            "\n",
            "\b\b\b\b\b\b\b\b\b\b\b\b\b\b\b\b\b\b\b\b\b\b\b\b\b\b\b\b\b\b\b\b\b\b\b\b\b\b\b\b\b\b\b\b\b\b\b\b\b\b\b\b\b\b\b\b\b\b\b\b\b\b\b\b\b\r120/120 [==============================] - 63s 527ms/step - loss: 0.0480 - val_loss: 0.1253\n",
            "Epoch 12/100\n",
            "119/120 [============================>.] - ETA: 0s - loss: 0.0362Epoch 1/100\n",
            " 30/120 [======>.......................] - ETA: 14s - loss: 0.1269\n",
            "Evaluating...\n"
          ],
          "name": "stdout"
        },
        {
          "output_type": "stream",
          "text": [
            "/content/drive/My Drive/Colab Notebooks/utils.py:25: RuntimeWarning: overflow encountered in exp\n",
            "  return 1. / (1. + np.exp(-x))\n"
          ],
          "name": "stderr"
        },
        {
          "output_type": "stream",
          "text": [
            "bee-A 0.0000\n",
            "bee-B 0.0000\n",
            "mAP: 0.0000\n",
            "average IOU: 0.0000\n",
            "\n",
            "model not improving since epoch 3\n"
          ],
          "name": "stdout"
        },
        {
          "output_type": "display_data",
          "data": {
            "application/javascript": [
              "\n",
              "    if(window.speechSynthesis) {\n",
              "        var synth = window.speechSynthesis;\n",
              "        synth.speak(new window.SpeechSynthesisUtterance('model not improving since epoch 3'));\n",
              "    }\n",
              "    "
            ],
            "text/plain": [
              "<IPython.core.display.Javascript object>"
            ]
          },
          "metadata": {
            "tags": []
          }
        },
        {
          "output_type": "stream",
          "text": [
            "\n",
            "\b\b\b\b\b\b\b\b\b\b\b\b\b\b\b\b\b\b\b\b\b\b\b\b\b\b\b\b\b\b\b\b\b\b\b\b\b\b\b\b\b\b\b\b\b\b\b\b\b\b\b\b\b\b\b\b\b\b\b\b\b\b\b\b\b\r120/120 [==============================] - 64s 530ms/step - loss: 0.0361 - val_loss: 0.1269\n",
            "Epoch 13/100\n",
            "119/120 [============================>.] - ETA: 0s - loss: 0.0283Epoch 1/100\n",
            " 30/120 [======>.......................] - ETA: 14s - loss: 0.1296\n",
            "Evaluating...\n",
            "bee-A 0.0000\n",
            "bee-B 0.0000\n",
            "mAP: 0.0000\n",
            "average IOU: 0.0000\n",
            "\n",
            "model not improving since epoch 3\n"
          ],
          "name": "stdout"
        },
        {
          "output_type": "display_data",
          "data": {
            "application/javascript": [
              "\n",
              "    if(window.speechSynthesis) {\n",
              "        var synth = window.speechSynthesis;\n",
              "        synth.speak(new window.SpeechSynthesisUtterance('model not improving since epoch 3'));\n",
              "    }\n",
              "    "
            ],
            "text/plain": [
              "<IPython.core.display.Javascript object>"
            ]
          },
          "metadata": {
            "tags": []
          }
        },
        {
          "output_type": "stream",
          "text": [
            "\n",
            "\b\b\b\b\b\b\b\b\b\b\b\b\b\b\b\b\b\b\b\b\b\b\b\b\b\b\b\b\b\b\b\b\b\b\b\b\b\b\b\b\b\b\b\b\b\b\b\b\b\b\b\b\b\b\b\b\b\b\b\b\b\b\b\b\b\r120/120 [==============================] - 63s 526ms/step - loss: 0.0282 - val_loss: 0.1296\n",
            "Epoch 14/100\n",
            "119/120 [============================>.] - ETA: 0s - loss: 0.0312Epoch 1/100\n",
            " 30/120 [======>.......................] - ETA: 14s - loss: 0.1293\n",
            "Evaluating...\n",
            "bee-A 0.0001\n",
            "bee-B 0.0000\n",
            "mAP: 0.0000\n",
            "average IOU: 0.0045\n",
            "\n",
            "model not improving since epoch 3\n"
          ],
          "name": "stdout"
        },
        {
          "output_type": "display_data",
          "data": {
            "application/javascript": [
              "\n",
              "    if(window.speechSynthesis) {\n",
              "        var synth = window.speechSynthesis;\n",
              "        synth.speak(new window.SpeechSynthesisUtterance('model not improving since epoch 3'));\n",
              "    }\n",
              "    "
            ],
            "text/plain": [
              "<IPython.core.display.Javascript object>"
            ]
          },
          "metadata": {
            "tags": []
          }
        },
        {
          "output_type": "stream",
          "text": [
            "\n",
            "\b\b\b\b\b\b\b\b\b\b\b\b\b\b\b\b\b\b\b\b\b\b\b\b\b\b\b\b\b\b\b\b\b\b\b\b\b\b\b\b\b\b\b\b\b\b\b\b\b\b\b\b\b\b\b\b\b\b\b\b\b\b\b\b\b\r120/120 [==============================] - 64s 536ms/step - loss: 0.0311 - val_loss: 0.1293\n",
            "Epoch 15/100\n",
            "119/120 [============================>.] - ETA: 0s - loss: 0.0269Epoch 1/100\n",
            " 30/120 [======>.......................] - ETA: 14s - loss: 0.1315\n",
            "Evaluating...\n",
            "bee-A 0.0000\n",
            "bee-B 0.0000\n",
            "mAP: 0.0000\n",
            "average IOU: 0.0006\n",
            "\n",
            "model not improving since epoch 3\n"
          ],
          "name": "stdout"
        },
        {
          "output_type": "display_data",
          "data": {
            "application/javascript": [
              "\n",
              "    if(window.speechSynthesis) {\n",
              "        var synth = window.speechSynthesis;\n",
              "        synth.speak(new window.SpeechSynthesisUtterance('model not improving since epoch 3'));\n",
              "    }\n",
              "    "
            ],
            "text/plain": [
              "<IPython.core.display.Javascript object>"
            ]
          },
          "metadata": {
            "tags": []
          }
        },
        {
          "output_type": "stream",
          "text": [
            "\n",
            "\b\b\b\b\b\b\b\b\b\b\b\b\b\b\b\b\b\b\b\b\b\b\b\b\b\b\b\b\b\b\b\b\b\b\b\b\b\b\b\b\b\b\b\b\b\b\b\b\b\b\b\b\b\b\b\b\b\b\b\b\b\b\b\b\b\r120/120 [==============================] - 64s 533ms/step - loss: 0.0268 - val_loss: 0.1315\n",
            "Epoch 16/100\n",
            "119/120 [============================>.] - ETA: 0s - loss: 0.0253Epoch 1/100\n",
            " 30/120 [======>.......................] - ETA: 14s - loss: 0.1403\n",
            "Evaluating...\n",
            "bee-A 0.0000\n",
            "bee-B 0.0000\n",
            "mAP: 0.0000\n",
            "average IOU: 0.0005\n",
            "\n",
            "model not improving since epoch 3\n"
          ],
          "name": "stdout"
        },
        {
          "output_type": "display_data",
          "data": {
            "application/javascript": [
              "\n",
              "    if(window.speechSynthesis) {\n",
              "        var synth = window.speechSynthesis;\n",
              "        synth.speak(new window.SpeechSynthesisUtterance('model not improving since epoch 3'));\n",
              "    }\n",
              "    "
            ],
            "text/plain": [
              "<IPython.core.display.Javascript object>"
            ]
          },
          "metadata": {
            "tags": []
          }
        },
        {
          "output_type": "stream",
          "text": [
            "\n",
            "\b\b\b\b\b\b\b\b\b\b\b\b\b\b\b\b\b\b\b\b\b\b\b\b\b\b\b\b\b\b\b\b\b\b\b\b\b\b\b\b\b\b\b\b\b\b\b\b\b\b\b\b\b\b\b\b\b\b\b\b\b\b\b\b\b\r120/120 [==============================] - 65s 538ms/step - loss: 0.0252 - val_loss: 0.1403\n",
            "Epoch 17/100\n",
            "119/120 [============================>.] - ETA: 0s - loss: 0.0257Epoch 1/100\n",
            " 30/120 [======>.......................] - ETA: 14s - loss: 0.1352\n",
            "Evaluating...\n",
            "bee-A 0.0000\n",
            "bee-B 0.0000\n",
            "mAP: 0.0000\n",
            "average IOU: 0.0004\n",
            "\n",
            "model not improving since epoch 3\n"
          ],
          "name": "stdout"
        },
        {
          "output_type": "display_data",
          "data": {
            "application/javascript": [
              "\n",
              "    if(window.speechSynthesis) {\n",
              "        var synth = window.speechSynthesis;\n",
              "        synth.speak(new window.SpeechSynthesisUtterance('model not improving since epoch 3'));\n",
              "    }\n",
              "    "
            ],
            "text/plain": [
              "<IPython.core.display.Javascript object>"
            ]
          },
          "metadata": {
            "tags": []
          }
        },
        {
          "output_type": "stream",
          "text": [
            "\n",
            "\b\b\b\b\b\b\b\b\b\b\b\b\b\b\b\b\b\b\b\b\b\b\b\b\b\b\b\b\b\b\b\b\b\b\b\b\b\b\b\b\b\b\b\b\b\b\b\b\b\b\b\b\b\b\b\b\b\b\b\b\b\b\b\b\b\r120/120 [==============================] - 64s 533ms/step - loss: 0.0256 - val_loss: 0.1352\n",
            "Epoch 18/100\n",
            "119/120 [============================>.] - ETA: 0s - loss: 0.0261Epoch 1/100\n",
            " 30/120 [======>.......................] - ETA: 14s - loss: 0.1276\n",
            "Evaluating...\n",
            "bee-A 0.0000\n",
            "bee-B 0.0000\n",
            "mAP: 0.0000\n",
            "average IOU: 0.0005\n",
            "\n",
            "model not improving since epoch 3\n"
          ],
          "name": "stdout"
        },
        {
          "output_type": "display_data",
          "data": {
            "application/javascript": [
              "\n",
              "    if(window.speechSynthesis) {\n",
              "        var synth = window.speechSynthesis;\n",
              "        synth.speak(new window.SpeechSynthesisUtterance('model not improving since epoch 3'));\n",
              "    }\n",
              "    "
            ],
            "text/plain": [
              "<IPython.core.display.Javascript object>"
            ]
          },
          "metadata": {
            "tags": []
          }
        },
        {
          "output_type": "stream",
          "text": [
            "\n",
            "\b\b\b\b\b\b\b\b\b\b\b\b\b\b\b\b\b\b\b\b\b\b\b\b\b\b\b\b\b\b\b\b\b\b\b\b\b\b\b\b\b\b\b\b\b\b\b\b\b\b\b\b\b\b\b\b\b\b\b\b\b\b\b\b\b\r120/120 [==============================] - 64s 534ms/step - loss: 0.0261 - val_loss: 0.1276\n",
            "Epoch 19/100\n",
            "119/120 [============================>.] - ETA: 0s - loss: 0.0205Epoch 1/100\n",
            " 30/120 [======>.......................] - ETA: 14s - loss: 0.1320\n",
            "Evaluating...\n",
            "bee-A 0.0000\n",
            "bee-B 0.0000\n",
            "mAP: 0.0000\n",
            "average IOU: 0.0002\n",
            "\n",
            "model not improving since epoch 3\n"
          ],
          "name": "stdout"
        },
        {
          "output_type": "display_data",
          "data": {
            "application/javascript": [
              "\n",
              "    if(window.speechSynthesis) {\n",
              "        var synth = window.speechSynthesis;\n",
              "        synth.speak(new window.SpeechSynthesisUtterance('model not improving since epoch 3'));\n",
              "    }\n",
              "    "
            ],
            "text/plain": [
              "<IPython.core.display.Javascript object>"
            ]
          },
          "metadata": {
            "tags": []
          }
        },
        {
          "output_type": "stream",
          "text": [
            "\n",
            "\b\b\b\b\b\b\b\b\b\b\b\b\b\b\b\b\b\b\b\b\b\b\b\b\b\b\b\b\b\b\b\b\b\b\b\b\b\b\b\b\b\b\b\b\b\b\b\b\b\b\b\b\b\b\b\b\b\b\b\b\b\b\b\b\b\r120/120 [==============================] - 64s 530ms/step - loss: 0.0204 - val_loss: 0.1320\n",
            "Epoch 20/100\n",
            "119/120 [============================>.] - ETA: 0s - loss: 0.0178Epoch 1/100\n",
            " 30/120 [======>.......................] - ETA: 14s - loss: 0.1281\n",
            "Evaluating...\n",
            "bee-A 0.0000\n",
            "bee-B 0.0000\n",
            "mAP: 0.0000\n",
            "average IOU: 0.0000\n",
            "\n",
            "model not improving since epoch 3\n"
          ],
          "name": "stdout"
        },
        {
          "output_type": "display_data",
          "data": {
            "application/javascript": [
              "\n",
              "    if(window.speechSynthesis) {\n",
              "        var synth = window.speechSynthesis;\n",
              "        synth.speak(new window.SpeechSynthesisUtterance('model not improving since epoch 3'));\n",
              "    }\n",
              "    "
            ],
            "text/plain": [
              "<IPython.core.display.Javascript object>"
            ]
          },
          "metadata": {
            "tags": []
          }
        },
        {
          "output_type": "stream",
          "text": [
            "\n",
            "\b\b\b\b\b\b\b\b\b\b\b\b\b\b\b\b\b\b\b\b\b\b\b\b\b\b\b\b\b\b\b\b\b\b\b\b\b\b\b\b\b\b\b\b\b\b\b\b\b\b\b\b\b\b\b\b\b\b\b\b\b\b\b\b\b\r120/120 [==============================] - 63s 529ms/step - loss: 0.0178 - val_loss: 0.1281\n",
            "Epoch 21/100\n",
            "119/120 [============================>.] - ETA: 0s - loss: 0.0166Epoch 1/100\n",
            " 30/120 [======>.......................] - ETA: 13s - loss: 0.1309\n",
            "Evaluating...\n",
            "bee-A 0.0000\n",
            "bee-B 0.0000\n",
            "mAP: 0.0000\n",
            "average IOU: 0.0000\n",
            "\n",
            "model not improving since epoch 3\n"
          ],
          "name": "stdout"
        },
        {
          "output_type": "display_data",
          "data": {
            "application/javascript": [
              "\n",
              "    if(window.speechSynthesis) {\n",
              "        var synth = window.speechSynthesis;\n",
              "        synth.speak(new window.SpeechSynthesisUtterance('model not improving since epoch 3'));\n",
              "    }\n",
              "    "
            ],
            "text/plain": [
              "<IPython.core.display.Javascript object>"
            ]
          },
          "metadata": {
            "tags": []
          }
        },
        {
          "output_type": "stream",
          "text": [
            "\n",
            "\b\b\b\b\b\b\b\b\b\b\b\b\b\b\b\b\b\b\b\b\b\b\b\b\b\b\b\b\b\b\b\b\b\b\b\b\b\b\b\b\b\b\b\b\b\b\b\b\b\b\b\b\b\b\b\b\b\b\b\b\b\b\b\b\b\r120/120 [==============================] - 63s 527ms/step - loss: 0.0166 - val_loss: 0.1309\n",
            "Epoch 22/100\n",
            "119/120 [============================>.] - ETA: 0s - loss: 0.0142Epoch 1/100\n",
            " 30/120 [======>.......................] - ETA: 13s - loss: 0.1322\n",
            "Evaluating...\n",
            "bee-A 0.0000\n",
            "bee-B 0.0000\n",
            "mAP: 0.0000\n",
            "average IOU: 0.0004\n",
            "\n",
            "model not improving since epoch 3\n"
          ],
          "name": "stdout"
        },
        {
          "output_type": "display_data",
          "data": {
            "application/javascript": [
              "\n",
              "    if(window.speechSynthesis) {\n",
              "        var synth = window.speechSynthesis;\n",
              "        synth.speak(new window.SpeechSynthesisUtterance('model not improving since epoch 3'));\n",
              "    }\n",
              "    "
            ],
            "text/plain": [
              "<IPython.core.display.Javascript object>"
            ]
          },
          "metadata": {
            "tags": []
          }
        },
        {
          "output_type": "stream",
          "text": [
            "\n",
            "\b\b\b\b\b\b\b\b\b\b\b\b\b\b\b\b\b\b\b\b\b\b\b\b\b\b\b\b\b\b\b\b\b\b\b\b\b\b\b\b\b\b\b\b\b\b\b\b\b\b\b\b\b\b\b\b\b\b\b\b\b\b\b\b\b\r120/120 [==============================] - 63s 528ms/step - loss: 0.0141 - val_loss: 0.1322\n",
            "Epoch 23/100\n",
            "119/120 [============================>.] - ETA: 0s - loss: 0.0144Epoch 1/100\n",
            " 30/120 [======>.......................] - ETA: 13s - loss: 0.1289\n",
            "Evaluating...\n",
            "bee-A 0.0000\n",
            "bee-B 0.0000\n",
            "mAP: 0.0000\n",
            "average IOU: 0.0003\n",
            "\n",
            "model not improving since epoch 3\n"
          ],
          "name": "stdout"
        },
        {
          "output_type": "display_data",
          "data": {
            "application/javascript": [
              "\n",
              "    if(window.speechSynthesis) {\n",
              "        var synth = window.speechSynthesis;\n",
              "        synth.speak(new window.SpeechSynthesisUtterance('model not improving since epoch 3'));\n",
              "    }\n",
              "    "
            ],
            "text/plain": [
              "<IPython.core.display.Javascript object>"
            ]
          },
          "metadata": {
            "tags": []
          }
        },
        {
          "output_type": "stream",
          "text": [
            "\n",
            "\b\b\b\b\b\b\b\b\b\b\b\b\b\b\b\b\b\b\b\b\b\b\b\b\b\b\b\b\b\b\b\b\b\b\b\b\b\b\b\b\b\b\b\b\b\b\b\b\b\b\b\b\b\b\b\b\b\b\b\b\b\b\b\b\b\r120/120 [==============================] - 63s 528ms/step - loss: 0.0144 - val_loss: 0.1289\n",
            "Epoch 24/100\n",
            "119/120 [============================>.] - ETA: 0s - loss: 0.0697Epoch 1/100\n",
            " 30/120 [======>.......................] - ETA: 13s - loss: 0.1421\n",
            "Evaluating...\n",
            "bee-A 0.0000\n",
            "bee-B 0.0000\n",
            "mAP: 0.0000\n",
            "average IOU: 0.0015\n",
            "\n",
            "model not improving since epoch 3\n"
          ],
          "name": "stdout"
        },
        {
          "output_type": "display_data",
          "data": {
            "application/javascript": [
              "\n",
              "    if(window.speechSynthesis) {\n",
              "        var synth = window.speechSynthesis;\n",
              "        synth.speak(new window.SpeechSynthesisUtterance('model not improving since epoch 3'));\n",
              "    }\n",
              "    "
            ],
            "text/plain": [
              "<IPython.core.display.Javascript object>"
            ]
          },
          "metadata": {
            "tags": []
          }
        },
        {
          "output_type": "stream",
          "text": [
            "\n",
            "\b\b\b\b\b\b\b\b\b\b\b\b\b\b\b\b\b\b\b\b\b\b\b\b\b\b\b\b\b\b\b\b\b\b\b\b\b\b\b\b\b\b\b\b\b\b\b\b\b\b\b\b\b\b\b\b\b\b\b\b\b\b\b\b\b\r120/120 [==============================] - 64s 535ms/step - loss: 0.0694 - val_loss: 0.1421\n",
            "Epoch 25/100\n",
            "119/120 [============================>.] - ETA: 0s - loss: 0.0245Epoch 1/100\n",
            " 30/120 [======>.......................] - ETA: 14s - loss: 0.1340\n",
            "Evaluating...\n",
            "bee-A 0.0000\n",
            "bee-B 0.0000\n",
            "mAP: 0.0000\n",
            "average IOU: 0.0001\n",
            "\n",
            "model not improving since epoch 3\n"
          ],
          "name": "stdout"
        },
        {
          "output_type": "display_data",
          "data": {
            "application/javascript": [
              "\n",
              "    if(window.speechSynthesis) {\n",
              "        var synth = window.speechSynthesis;\n",
              "        synth.speak(new window.SpeechSynthesisUtterance('model not improving since epoch 3'));\n",
              "    }\n",
              "    "
            ],
            "text/plain": [
              "<IPython.core.display.Javascript object>"
            ]
          },
          "metadata": {
            "tags": []
          }
        },
        {
          "output_type": "stream",
          "text": [
            "\n",
            "\b\b\b\b\b\b\b\b\b\b\b\b\b\b\b\b\b\b\b\b\b\b\b\b\b\b\b\b\b\b\b\b\b\b\b\b\b\b\b\b\b\b\b\b\b\b\b\b\b\b\b\b\b\b\b\b\b\b\b\b\b\b\b\b\b\r120/120 [==============================] - 63s 527ms/step - loss: 0.0244 - val_loss: 0.1340\n",
            "Epoch 26/100\n",
            "119/120 [============================>.] - ETA: 0s - loss: 0.0154Epoch 1/100\n",
            " 30/120 [======>.......................] - ETA: 14s - loss: 0.1323\n",
            "Evaluating...\n",
            "bee-A 0.0000\n",
            "bee-B 0.0000\n",
            "mAP: 0.0000\n",
            "average IOU: 0.0001\n",
            "\n",
            "model not improving since epoch 3\n"
          ],
          "name": "stdout"
        },
        {
          "output_type": "display_data",
          "data": {
            "application/javascript": [
              "\n",
              "    if(window.speechSynthesis) {\n",
              "        var synth = window.speechSynthesis;\n",
              "        synth.speak(new window.SpeechSynthesisUtterance('model not improving since epoch 3'));\n",
              "    }\n",
              "    "
            ],
            "text/plain": [
              "<IPython.core.display.Javascript object>"
            ]
          },
          "metadata": {
            "tags": []
          }
        },
        {
          "output_type": "stream",
          "text": [
            "\n",
            "\b\b\b\b\b\b\b\b\b\b\b\b\b\b\b\b\b\b\b\b\b\b\b\b\b\b\b\b\b\b\b\b\b\b\b\b\b\b\b\b\b\b\b\b\b\b\b\b\b\b\b\b\b\b\b\b\b\b\b\b\b\b\b\b\b\r120/120 [==============================] - 63s 527ms/step - loss: 0.0153 - val_loss: 0.1323\n",
            "Epoch 27/100\n",
            "119/120 [============================>.] - ETA: 0s - loss: 0.0140Epoch 1/100\n",
            " 30/120 [======>.......................] - ETA: 13s - loss: 0.1326\n",
            "Evaluating...\n",
            "bee-A 0.0000\n",
            "bee-B 0.0000\n",
            "mAP: 0.0000\n",
            "average IOU: 0.0000\n",
            "\n",
            "model not improving since epoch 3\n"
          ],
          "name": "stdout"
        },
        {
          "output_type": "display_data",
          "data": {
            "application/javascript": [
              "\n",
              "    if(window.speechSynthesis) {\n",
              "        var synth = window.speechSynthesis;\n",
              "        synth.speak(new window.SpeechSynthesisUtterance('model not improving since epoch 3'));\n",
              "    }\n",
              "    "
            ],
            "text/plain": [
              "<IPython.core.display.Javascript object>"
            ]
          },
          "metadata": {
            "tags": []
          }
        },
        {
          "output_type": "stream",
          "text": [
            "\n",
            "\b\b\b\b\b\b\b\b\b\b\b\b\b\b\b\b\b\b\b\b\b\b\b\b\b\b\b\b\b\b\b\b\b\b\b\b\b\b\b\b\b\b\b\b\b\b\b\b\b\b\b\b\b\b\b\b\b\b\b\b\b\b\b\b\b\r120/120 [==============================] - 63s 526ms/step - loss: 0.0140 - val_loss: 0.1326\n",
            "Epoch 28/100\n",
            "119/120 [============================>.] - ETA: 0s - loss: 0.0141Epoch 1/100\n",
            " 30/120 [======>.......................] - ETA: 13s - loss: 0.1302\n",
            "Evaluating...\n",
            "bee-A 0.0000\n",
            "bee-B 0.0000\n",
            "mAP: 0.0000\n",
            "average IOU: 0.0000\n",
            "\n",
            "model not improving since epoch 3\n"
          ],
          "name": "stdout"
        },
        {
          "output_type": "display_data",
          "data": {
            "application/javascript": [
              "\n",
              "    if(window.speechSynthesis) {\n",
              "        var synth = window.speechSynthesis;\n",
              "        synth.speak(new window.SpeechSynthesisUtterance('model not improving since epoch 3'));\n",
              "    }\n",
              "    "
            ],
            "text/plain": [
              "<IPython.core.display.Javascript object>"
            ]
          },
          "metadata": {
            "tags": []
          }
        },
        {
          "output_type": "stream",
          "text": [
            "\n",
            "\b\b\b\b\b\b\b\b\b\b\b\b\b\b\b\b\b\b\b\b\b\b\b\b\b\b\b\b\b\b\b\b\b\b\b\b\b\b\b\b\b\b\b\b\b\b\b\b\b\b\b\b\b\b\b\b\b\b\b\b\b\b\b\b\b\r120/120 [==============================] - 63s 528ms/step - loss: 0.0141 - val_loss: 0.1302\n",
            "Epoch 29/100\n",
            "119/120 [============================>.] - ETA: 0s - loss: 0.0146Epoch 1/100\n",
            " 30/120 [======>.......................] - ETA: 14s - loss: 0.1330\n",
            "Evaluating...\n",
            "bee-A 0.0000\n",
            "bee-B 0.0000\n",
            "mAP: 0.0000\n",
            "average IOU: 0.0000\n",
            "\n",
            "model not improving since epoch 3\n"
          ],
          "name": "stdout"
        },
        {
          "output_type": "display_data",
          "data": {
            "application/javascript": [
              "\n",
              "    if(window.speechSynthesis) {\n",
              "        var synth = window.speechSynthesis;\n",
              "        synth.speak(new window.SpeechSynthesisUtterance('model not improving since epoch 3'));\n",
              "    }\n",
              "    "
            ],
            "text/plain": [
              "<IPython.core.display.Javascript object>"
            ]
          },
          "metadata": {
            "tags": []
          }
        },
        {
          "output_type": "stream",
          "text": [
            "\n",
            "\b\b\b\b\b\b\b\b\b\b\b\b\b\b\b\b\b\b\b\b\b\b\b\b\b\b\b\b\b\b\b\b\b\b\b\b\b\b\b\b\b\b\b\b\b\b\b\b\b\b\b\b\b\b\b\b\b\b\b\b\b\b\b\b\b\r120/120 [==============================] - 63s 525ms/step - loss: 0.0145 - val_loss: 0.1330\n",
            "Epoch 30/100\n",
            "119/120 [============================>.] - ETA: 0s - loss: 0.0118Epoch 1/100\n",
            " 30/120 [======>.......................] - ETA: 14s - loss: 0.1278\n",
            "Evaluating...\n",
            "bee-A 0.0000\n",
            "bee-B 0.0000\n",
            "mAP: 0.0000\n",
            "average IOU: 0.0006\n",
            "\n",
            "model not improving since epoch 3\n"
          ],
          "name": "stdout"
        },
        {
          "output_type": "display_data",
          "data": {
            "application/javascript": [
              "\n",
              "    if(window.speechSynthesis) {\n",
              "        var synth = window.speechSynthesis;\n",
              "        synth.speak(new window.SpeechSynthesisUtterance('model not improving since epoch 3'));\n",
              "    }\n",
              "    "
            ],
            "text/plain": [
              "<IPython.core.display.Javascript object>"
            ]
          },
          "metadata": {
            "tags": []
          }
        },
        {
          "output_type": "stream",
          "text": [
            "\n",
            "\b\b\b\b\b\b\b\b\b\b\b\b\b\b\b\b\b\b\b\b\b\b\b\b\b\b\b\b\b\b\b\b\b\b\b\b\b\b\b\b\b\b\b\b\b\b\b\b\b\b\b\b\b\b\b\b\b\b\b\b\b\b\b\b\b\r120/120 [==============================] - 63s 529ms/step - loss: 0.0118 - val_loss: 0.1278\n",
            "Epoch 31/100\n",
            "119/120 [============================>.] - ETA: 0s - loss: 0.0132Epoch 1/100\n",
            " 30/120 [======>.......................] - ETA: 13s - loss: 0.1264\n",
            "Evaluating...\n",
            "bee-A 0.0000\n",
            "bee-B 0.0000\n",
            "mAP: 0.0000\n",
            "average IOU: 0.0002\n",
            "\n",
            "model not improving since epoch 3\n"
          ],
          "name": "stdout"
        },
        {
          "output_type": "display_data",
          "data": {
            "application/javascript": [
              "\n",
              "    if(window.speechSynthesis) {\n",
              "        var synth = window.speechSynthesis;\n",
              "        synth.speak(new window.SpeechSynthesisUtterance('model not improving since epoch 3'));\n",
              "    }\n",
              "    "
            ],
            "text/plain": [
              "<IPython.core.display.Javascript object>"
            ]
          },
          "metadata": {
            "tags": []
          }
        },
        {
          "output_type": "stream",
          "text": [
            "\n",
            "\b\b\b\b\b\b\b\b\b\b\b\b\b\b\b\b\b\b\b\b\b\b\b\b\b\b\b\b\b\b\b\b\b\b\b\b\b\b\b\b\b\b\b\b\b\b\b\b\b\b\b\b\b\b\b\b\b\b\b\b\b\b\b\b\b\r120/120 [==============================] - 63s 528ms/step - loss: 0.0132 - val_loss: 0.1264\n",
            "Epoch 32/100\n",
            "119/120 [============================>.] - ETA: 0s - loss: 0.0119Epoch 1/100\n",
            " 30/120 [======>.......................] - ETA: 14s - loss: 0.1266\n",
            "Evaluating...\n",
            "bee-A 0.0000\n",
            "bee-B 0.0000\n",
            "mAP: 0.0000\n",
            "average IOU: 0.0000\n",
            "\n",
            "model not improving since epoch 3\n"
          ],
          "name": "stdout"
        },
        {
          "output_type": "display_data",
          "data": {
            "application/javascript": [
              "\n",
              "    if(window.speechSynthesis) {\n",
              "        var synth = window.speechSynthesis;\n",
              "        synth.speak(new window.SpeechSynthesisUtterance('model not improving since epoch 3'));\n",
              "    }\n",
              "    "
            ],
            "text/plain": [
              "<IPython.core.display.Javascript object>"
            ]
          },
          "metadata": {
            "tags": []
          }
        },
        {
          "output_type": "stream",
          "text": [
            "\n",
            "\b\b\b\b\b\b\b\b\b\b\b\b\b\b\b\b\b\b\b\b\b\b\b\b\b\b\b\b\b\b\b\b\b\b\b\b\b\b\b\b\b\b\b\b\b\b\b\b\b\b\b\b\b\b\b\b\b\b\b\b\b\b\b\b\b\r120/120 [==============================] - 63s 527ms/step - loss: 0.0119 - val_loss: 0.1266\n",
            "Epoch 33/100\n",
            "119/120 [============================>.] - ETA: 0s - loss: 0.0130Epoch 1/100\n",
            " 30/120 [======>.......................] - ETA: 14s - loss: 0.1313\n",
            "Evaluating...\n",
            "bee-A 0.0000\n",
            "bee-B 0.0000\n",
            "mAP: 0.0000\n",
            "average IOU: 0.0028\n",
            "\n",
            "model not improving since epoch 3\n"
          ],
          "name": "stdout"
        },
        {
          "output_type": "display_data",
          "data": {
            "application/javascript": [
              "\n",
              "    if(window.speechSynthesis) {\n",
              "        var synth = window.speechSynthesis;\n",
              "        synth.speak(new window.SpeechSynthesisUtterance('model not improving since epoch 3'));\n",
              "    }\n",
              "    "
            ],
            "text/plain": [
              "<IPython.core.display.Javascript object>"
            ]
          },
          "metadata": {
            "tags": []
          }
        },
        {
          "output_type": "stream",
          "text": [
            "\n",
            "\b\b\b\b\b\b\b\b\b\b\b\b\b\b\b\b\b\b\b\b\b\b\b\b\b\b\b\b\b\b\b\b\b\b\b\b\b\b\b\b\b\b\b\b\b\b\b\b\b\b\b\b\b\b\b\b\b\b\b\b\b\b\b\b\b\r120/120 [==============================] - 64s 533ms/step - loss: 0.0130 - val_loss: 0.1313\n",
            "Epoch 34/100\n",
            " 14/120 [==>...........................] - ETA: 41s - loss: 0.0107"
          ],
          "name": "stdout"
        },
        {
          "output_type": "error",
          "ename": "KeyboardInterrupt",
          "evalue": "ignored",
          "traceback": [
            "\u001b[0;31m---------------------------------------------------------------------------\u001b[0m",
            "\u001b[0;31mKeyboardInterrupt\u001b[0m                         Traceback (most recent call last)",
            "\u001b[0;32m<ipython-input-16-a00fea0f8bb6>\u001b[0m in \u001b[0;36m<module>\u001b[0;34m()\u001b[0m\n\u001b[1;32m      5\u001b[0m                     \u001b[0mvalidation_steps\u001b[0m\u001b[0;34m=\u001b[0m\u001b[0mlen\u001b[0m\u001b[0;34m(\u001b[0m\u001b[0mtest_imgs\u001b[0m\u001b[0;34m)\u001b[0m\u001b[0;34m//\u001b[0m\u001b[0mVAL_BATCH_SIZE\u001b[0m\u001b[0;34m,\u001b[0m\u001b[0;34m\u001b[0m\u001b[0;34m\u001b[0m\u001b[0m\n\u001b[1;32m      6\u001b[0m                     \u001b[0;31m# initial_epoch=2,\u001b[0m\u001b[0;34m\u001b[0m\u001b[0;34m\u001b[0m\u001b[0;34m\u001b[0m\u001b[0m\n\u001b[0;32m----> 7\u001b[0;31m                     \u001b[0mcallbacks\u001b[0m\u001b[0;34m=\u001b[0m\u001b[0;34m[\u001b[0m\u001b[0mmap_callback\u001b[0m\u001b[0;34m]\u001b[0m\u001b[0;34m\u001b[0m\u001b[0;34m\u001b[0m\u001b[0m\n\u001b[0m\u001b[1;32m      8\u001b[0m                     \u001b[0;31m# validation_data=(X_test, y_test),\u001b[0m\u001b[0;34m\u001b[0m\u001b[0;34m\u001b[0m\u001b[0;34m\u001b[0m\u001b[0m\n\u001b[1;32m      9\u001b[0m                    )\n",
            "\u001b[0;32m/usr/local/lib/python3.6/dist-packages/tensorflow_core/python/keras/engine/training.py\u001b[0m in \u001b[0;36mfit_generator\u001b[0;34m(self, generator, steps_per_epoch, epochs, verbose, callbacks, validation_data, validation_steps, validation_freq, class_weight, max_queue_size, workers, use_multiprocessing, shuffle, initial_epoch)\u001b[0m\n\u001b[1;32m   1294\u001b[0m         \u001b[0mshuffle\u001b[0m\u001b[0;34m=\u001b[0m\u001b[0mshuffle\u001b[0m\u001b[0;34m,\u001b[0m\u001b[0;34m\u001b[0m\u001b[0;34m\u001b[0m\u001b[0m\n\u001b[1;32m   1295\u001b[0m         \u001b[0minitial_epoch\u001b[0m\u001b[0;34m=\u001b[0m\u001b[0minitial_epoch\u001b[0m\u001b[0;34m,\u001b[0m\u001b[0;34m\u001b[0m\u001b[0;34m\u001b[0m\u001b[0m\n\u001b[0;32m-> 1296\u001b[0;31m         steps_name='steps_per_epoch')\n\u001b[0m\u001b[1;32m   1297\u001b[0m \u001b[0;34m\u001b[0m\u001b[0m\n\u001b[1;32m   1298\u001b[0m   def evaluate_generator(self,\n",
            "\u001b[0;32m/usr/local/lib/python3.6/dist-packages/tensorflow_core/python/keras/engine/training_generator.py\u001b[0m in \u001b[0;36mmodel_iteration\u001b[0;34m(model, data, steps_per_epoch, epochs, verbose, callbacks, validation_data, validation_steps, validation_freq, class_weight, max_queue_size, workers, use_multiprocessing, shuffle, initial_epoch, mode, batch_size, steps_name, **kwargs)\u001b[0m\n\u001b[1;32m    263\u001b[0m \u001b[0;34m\u001b[0m\u001b[0m\n\u001b[1;32m    264\u001b[0m       \u001b[0mis_deferred\u001b[0m \u001b[0;34m=\u001b[0m \u001b[0;32mnot\u001b[0m \u001b[0mmodel\u001b[0m\u001b[0;34m.\u001b[0m\u001b[0m_is_compiled\u001b[0m\u001b[0;34m\u001b[0m\u001b[0;34m\u001b[0m\u001b[0m\n\u001b[0;32m--> 265\u001b[0;31m       \u001b[0mbatch_outs\u001b[0m \u001b[0;34m=\u001b[0m \u001b[0mbatch_function\u001b[0m\u001b[0;34m(\u001b[0m\u001b[0;34m*\u001b[0m\u001b[0mbatch_data\u001b[0m\u001b[0;34m)\u001b[0m\u001b[0;34m\u001b[0m\u001b[0;34m\u001b[0m\u001b[0m\n\u001b[0m\u001b[1;32m    266\u001b[0m       \u001b[0;32mif\u001b[0m \u001b[0;32mnot\u001b[0m \u001b[0misinstance\u001b[0m\u001b[0;34m(\u001b[0m\u001b[0mbatch_outs\u001b[0m\u001b[0;34m,\u001b[0m \u001b[0mlist\u001b[0m\u001b[0;34m)\u001b[0m\u001b[0;34m:\u001b[0m\u001b[0;34m\u001b[0m\u001b[0;34m\u001b[0m\u001b[0m\n\u001b[1;32m    267\u001b[0m         \u001b[0mbatch_outs\u001b[0m \u001b[0;34m=\u001b[0m \u001b[0;34m[\u001b[0m\u001b[0mbatch_outs\u001b[0m\u001b[0;34m]\u001b[0m\u001b[0;34m\u001b[0m\u001b[0;34m\u001b[0m\u001b[0m\n",
            "\u001b[0;32m/usr/local/lib/python3.6/dist-packages/tensorflow_core/python/keras/engine/training.py\u001b[0m in \u001b[0;36mtrain_on_batch\u001b[0;34m(self, x, y, sample_weight, class_weight, reset_metrics)\u001b[0m\n\u001b[1;32m   1015\u001b[0m       \u001b[0mself\u001b[0m\u001b[0;34m.\u001b[0m\u001b[0m_update_sample_weight_modes\u001b[0m\u001b[0;34m(\u001b[0m\u001b[0msample_weights\u001b[0m\u001b[0;34m=\u001b[0m\u001b[0msample_weights\u001b[0m\u001b[0;34m)\u001b[0m\u001b[0;34m\u001b[0m\u001b[0;34m\u001b[0m\u001b[0m\n\u001b[1;32m   1016\u001b[0m       \u001b[0mself\u001b[0m\u001b[0;34m.\u001b[0m\u001b[0m_make_train_function\u001b[0m\u001b[0;34m(\u001b[0m\u001b[0;34m)\u001b[0m\u001b[0;34m\u001b[0m\u001b[0;34m\u001b[0m\u001b[0m\n\u001b[0;32m-> 1017\u001b[0;31m       \u001b[0moutputs\u001b[0m \u001b[0;34m=\u001b[0m \u001b[0mself\u001b[0m\u001b[0;34m.\u001b[0m\u001b[0mtrain_function\u001b[0m\u001b[0;34m(\u001b[0m\u001b[0mins\u001b[0m\u001b[0;34m)\u001b[0m  \u001b[0;31m# pylint: disable=not-callable\u001b[0m\u001b[0;34m\u001b[0m\u001b[0;34m\u001b[0m\u001b[0m\n\u001b[0m\u001b[1;32m   1018\u001b[0m \u001b[0;34m\u001b[0m\u001b[0m\n\u001b[1;32m   1019\u001b[0m     \u001b[0;32mif\u001b[0m \u001b[0mreset_metrics\u001b[0m\u001b[0;34m:\u001b[0m\u001b[0;34m\u001b[0m\u001b[0;34m\u001b[0m\u001b[0m\n",
            "\u001b[0;32m/usr/local/lib/python3.6/dist-packages/tensorflow_core/python/keras/backend.py\u001b[0m in \u001b[0;36m__call__\u001b[0;34m(self, inputs)\u001b[0m\n\u001b[1;32m   3474\u001b[0m \u001b[0;34m\u001b[0m\u001b[0m\n\u001b[1;32m   3475\u001b[0m     fetched = self._callable_fn(*array_vals,\n\u001b[0;32m-> 3476\u001b[0;31m                                 run_metadata=self.run_metadata)\n\u001b[0m\u001b[1;32m   3477\u001b[0m     \u001b[0mself\u001b[0m\u001b[0;34m.\u001b[0m\u001b[0m_call_fetch_callbacks\u001b[0m\u001b[0;34m(\u001b[0m\u001b[0mfetched\u001b[0m\u001b[0;34m[\u001b[0m\u001b[0;34m-\u001b[0m\u001b[0mlen\u001b[0m\u001b[0;34m(\u001b[0m\u001b[0mself\u001b[0m\u001b[0;34m.\u001b[0m\u001b[0m_fetches\u001b[0m\u001b[0;34m)\u001b[0m\u001b[0;34m:\u001b[0m\u001b[0;34m]\u001b[0m\u001b[0;34m)\u001b[0m\u001b[0;34m\u001b[0m\u001b[0;34m\u001b[0m\u001b[0m\n\u001b[1;32m   3478\u001b[0m     output_structure = nest.pack_sequence_as(\n",
            "\u001b[0;32m/usr/local/lib/python3.6/dist-packages/tensorflow_core/python/client/session.py\u001b[0m in \u001b[0;36m__call__\u001b[0;34m(self, *args, **kwargs)\u001b[0m\n\u001b[1;32m   1470\u001b[0m         ret = tf_session.TF_SessionRunCallable(self._session._session,\n\u001b[1;32m   1471\u001b[0m                                                \u001b[0mself\u001b[0m\u001b[0;34m.\u001b[0m\u001b[0m_handle\u001b[0m\u001b[0;34m,\u001b[0m \u001b[0margs\u001b[0m\u001b[0;34m,\u001b[0m\u001b[0;34m\u001b[0m\u001b[0;34m\u001b[0m\u001b[0m\n\u001b[0;32m-> 1472\u001b[0;31m                                                run_metadata_ptr)\n\u001b[0m\u001b[1;32m   1473\u001b[0m         \u001b[0;32mif\u001b[0m \u001b[0mrun_metadata\u001b[0m\u001b[0;34m:\u001b[0m\u001b[0;34m\u001b[0m\u001b[0;34m\u001b[0m\u001b[0m\n\u001b[1;32m   1474\u001b[0m           \u001b[0mproto_data\u001b[0m \u001b[0;34m=\u001b[0m \u001b[0mtf_session\u001b[0m\u001b[0;34m.\u001b[0m\u001b[0mTF_GetBuffer\u001b[0m\u001b[0;34m(\u001b[0m\u001b[0mrun_metadata_ptr\u001b[0m\u001b[0;34m)\u001b[0m\u001b[0;34m\u001b[0m\u001b[0;34m\u001b[0m\u001b[0m\n",
            "\u001b[0;31mKeyboardInterrupt\u001b[0m: "
          ]
        }
      ]
    },
    {
      "cell_type": "markdown",
      "metadata": {
        "colab_type": "text",
        "id": "T_dJAo6pOL7y"
      },
      "source": [
        "#### 4.4.2 Or train with pure fit function"
      ]
    },
    {
      "cell_type": "code",
      "metadata": {
        "colab_type": "code",
        "id": "IwAJQt7HOL62",
        "colab": {}
      },
      "source": [
        "model.fit(x=X_train, \n",
        "          y=y_train, \n",
        "          validation_data=(X_test, y_test), \n",
        "          epochs=EPOCHS, \n",
        "          batch_size=BATCH_SIZE, \n",
        "          callbacks=[map_callback]\n",
        "          verbose=1)\n",
        "\n",
        "speak('Training Completed.')"
      ],
      "execution_count": 0,
      "outputs": []
    },
    {
      "cell_type": "markdown",
      "metadata": {
        "id": "evNLg8Ww-1gy",
        "colab_type": "text"
      },
      "source": [
        "#### 4.5 All logs for the training session"
      ]
    },
    {
      "cell_type": "code",
      "metadata": {
        "id": "YgbVp62I_eIh",
        "colab_type": "code",
        "outputId": "7a10fc86-b109-467a-aa9c-c2fb5d07d5de",
        "colab": {
          "base_uri": "https://localhost:8080/",
          "height": 1000
        }
      },
      "source": [
        "map_callback.all_logs"
      ],
      "execution_count": 0,
      "outputs": [
        {
          "output_type": "execute_result",
          "data": {
            "text/plain": [
              "{'aIOU': [0,\n",
              "  0,\n",
              "  9.404543065846105e-05,\n",
              "  1.0877053196353917e-05,\n",
              "  3.196338120258124e-05,\n",
              "  0.0,\n",
              "  0.0,\n",
              "  0.0,\n",
              "  0.0,\n",
              "  0.0,\n",
              "  0.0,\n",
              "  0.03631556987292398,\n",
              "  0.009597392327782263,\n",
              "  0.0,\n",
              "  0.037095055936696396,\n",
              "  0.038319046883858544,\n",
              "  0.01605804016268619,\n",
              "  0.08579617651604814,\n",
              "  0.09502755414383193,\n",
              "  0.11055402321028816,\n",
              "  0.09738081873253572,\n",
              "  0.09194584474621524,\n",
              "  0.11442342350753831,\n",
              "  0.09049176055171712,\n",
              "  0.090765752278929,\n",
              "  0.09481921907253704,\n",
              "  0.0862694291106062,\n",
              "  0.08189408681132734,\n",
              "  0.08137297799511399,\n",
              "  0.0879712848669719,\n",
              "  0.0862734810278499,\n",
              "  0.08587682705645568,\n",
              "  0.10338983458145357,\n",
              "  0.102840513719105,\n",
              "  0.10053561539176283,\n",
              "  0.10510795500671047,\n",
              "  0.10747944182067708,\n",
              "  0.11066495380690966,\n",
              "  0.10788112530426341,\n",
              "  0.09721407534350454,\n",
              "  0.10348830645502205,\n",
              "  0.0983174526021973,\n",
              "  0.10617132419326049,\n",
              "  0,\n",
              "  0,\n",
              "  0,\n",
              "  0.2245876905700504,\n",
              "  0.09262802825702045,\n",
              "  0.08808077762996316,\n",
              "  0.04733598642261215,\n",
              "  0.21051747602208576,\n",
              "  0.29876787169047564,\n",
              "  0.19521029020759104,\n",
              "  0.1593221317365468,\n",
              "  0.12314067533543177,\n",
              "  0.14036953220031825,\n",
              "  0.1436256025206037,\n",
              "  0.13621236456690392,\n",
              "  0.12720160134825495,\n",
              "  0.14897987499864976,\n",
              "  0.1497997453346758,\n",
              "  0.14346695200313572,\n",
              "  0.13751706017116813,\n",
              "  0.14088479972811888,\n",
              "  0.14093275958899176,\n",
              "  0.14726393491942505,\n",
              "  0.15533538682733106,\n",
              "  0.15240811911404287,\n",
              "  0.13428896817678554,\n",
              "  0.14600784883862117,\n",
              "  0.12985747475650417,\n",
              "  0.12939659834848705,\n",
              "  0.1290858423854564,\n",
              "  0.14228658705981437,\n",
              "  0.15800914496451732,\n",
              "  0.1395857707137299,\n",
              "  0,\n",
              "  0.24070200636316788,\n",
              "  0.13725263065219626,\n",
              "  0.1515374843062088,\n",
              "  0.14994198406072362,\n",
              "  0.12588937673229664,\n",
              "  0.1203138011922137,\n",
              "  0.11539942362803096,\n",
              "  0.11496827403713492,\n",
              "  0.11284474781099645,\n",
              "  0.11238648117132562,\n",
              "  0.11522949995431735,\n",
              "  0.10970528582035988,\n",
              "  0.10917728270248968,\n",
              "  0.10888705151519965,\n",
              "  0.11889377310457314,\n",
              "  0.11634655141303546,\n",
              "  0.10266449828517088,\n",
              "  0.10756092915949789,\n",
              "  0.11361076840339623,\n",
              "  0.10789783023336794,\n",
              "  0.11950644343311832,\n",
              "  0.10996085352192718,\n",
              "  0.11152415259808839,\n",
              "  0.11772558799629049,\n",
              "  0.11213651363263923,\n",
              "  0.11546465339144071,\n",
              "  0.1109684340874779,\n",
              "  0.10850728299820499,\n",
              "  0.12017849897163072,\n",
              "  0.11739814981802149,\n",
              "  0.12621775683070943,\n",
              "  0.12906755723945937,\n",
              "  0.12533289454438104,\n",
              "  0.11405073066971456,\n",
              "  0.12373007456749327,\n",
              "  0.1577997738130897,\n",
              "  0,\n",
              "  0.17814159461895307,\n",
              "  0.22779622302447544,\n",
              "  0.10955671118870255,\n",
              "  0.11173413792739963,\n",
              "  0.11137818660045065,\n",
              "  0.11239577449707885,\n",
              "  0.1092845853111736,\n",
              "  0.1080540645080429,\n",
              "  0.1080511064319015,\n",
              "  0.10609677993241927,\n",
              "  0.10614882965765433,\n",
              "  0.11105535848828035,\n",
              "  0.11352510148344255,\n",
              "  0.11377201002202507,\n",
              "  0.10828845289765746,\n",
              "  0.11107357743233603,\n",
              "  0.10756390038072809,\n",
              "  0.11134284044174236,\n",
              "  0.10830256167715786,\n",
              "  0.11037936988155835,\n",
              "  0.1117971816919487,\n",
              "  0.10823035173820596,\n",
              "  0.11117993083440006,\n",
              "  0.11318848618362487,\n",
              "  0.11238751266056198,\n",
              "  0.11381037825825369,\n",
              "  0.10622848889950852,\n",
              "  0.10959105396963244,\n",
              "  0.11478582570981279,\n",
              "  0.10470729841302456,\n",
              "  0.10539738726410394,\n",
              "  0.11515973809363225,\n",
              "  0.09538690632272577,\n",
              "  0,\n",
              "  0,\n",
              "  0.23141407628923522,\n",
              "  0.25453350111003015,\n",
              "  0.2235407563394351,\n",
              "  0.19698187804951792,\n",
              "  0.1709409631407092,\n",
              "  0.14178412369900764,\n",
              "  0.12271737522917488,\n",
              "  0.11840592138203389,\n",
              "  0.11823682923466544,\n",
              "  0.11153988378727753,\n",
              "  0.11411491379952134,\n",
              "  0.10102545241018106,\n",
              "  0.11088800169371957,\n",
              "  0.11233126925968841,\n",
              "  0.11076219591393792,\n",
              "  0.10639693469053123,\n",
              "  0.11219565765881978,\n",
              "  0.1030822411811068,\n",
              "  0.10970627719174128,\n",
              "  0.11114531860388155,\n",
              "  0.11935219327225248,\n",
              "  0.11540402452600398,\n",
              "  0.11205028253070251,\n",
              "  0.11390908879630779,\n",
              "  0.11169273468813264,\n",
              "  0.11555138096182846,\n",
              "  0.12213607043462442,\n",
              "  0.11807316509768417,\n",
              "  0.1039075685275949,\n",
              "  0.12581875651283048,\n",
              "  0.11167629578469589,\n",
              "  0.1142690916909765,\n",
              "  0.12238648822183942,\n",
              "  0.11750682607457565,\n",
              "  0.1106366413706971,\n",
              "  0.11005036749408,\n",
              "  0.11675729036131112,\n",
              "  0.1092223236382214,\n",
              "  0.11033899655952381],\n",
              " 'mAP': [0,\n",
              "  0,\n",
              "  {'bee-A': 0.0, 'bee-B': 0.0},\n",
              "  {'bee-A': 0.0, 'bee-B': 0.0},\n",
              "  {'bee-A': 0.0, 'bee-B': 0.0},\n",
              "  {'bee-A': 0.0, 'bee-B': 0.0},\n",
              "  {'bee-A': 0.0, 'bee-B': 0.0},\n",
              "  {'bee-A': 0.0, 'bee-B': 0.0},\n",
              "  {'bee-A': 0.0, 'bee-B': 0.0},\n",
              "  {'bee-A': 0.0, 'bee-B': 0.0},\n",
              "  {'bee-A': 0.0, 'bee-B': 0.0},\n",
              "  {'bee-A': 0.0001326259946949602, 'bee-B': 0.0},\n",
              "  {'bee-A': 0.0, 'bee-B': 0.0},\n",
              "  {'bee-A': 0.0, 'bee-B': 0.0},\n",
              "  {'bee-A': 0.00013960631020522126, 'bee-B': 0.0},\n",
              "  {'bee-A': 0.0005186016459226008, 'bee-B': 0.0},\n",
              "  {'bee-A': 0.00022104332449160034, 'bee-B': 0.0},\n",
              "  {'bee-A': 0.0012860702515874929, 'bee-B': 0.0},\n",
              "  {'bee-A': 0.0013002801795905243, 'bee-B': 0.0},\n",
              "  {'bee-A': 0.0019573546560053305, 'bee-B': 0.0},\n",
              "  {'bee-A': 0.0037890129265610514, 'bee-B': 0.0},\n",
              "  {'bee-A': 0.004911511867083614, 'bee-B': 0.0},\n",
              "  {'bee-A': 0.008874275783403125, 'bee-B': 0.0},\n",
              "  {'bee-A': 0.008539633109010005, 'bee-B': 0.0},\n",
              "  {'bee-A': 0.0069480825860340325, 'bee-B': 0.0},\n",
              "  {'bee-A': 0.01222551252165741, 'bee-B': 0.0},\n",
              "  {'bee-A': 0.014595151909096476, 'bee-B': 0.0},\n",
              "  {'bee-A': 0.014838005787668668, 'bee-B': 0.0},\n",
              "  {'bee-A': 0.024534457864877166, 'bee-B': 0.0},\n",
              "  {'bee-A': 0.026136229155047097, 'bee-B': 0.0},\n",
              "  {'bee-A': 0.029845649569863665, 'bee-B': 0.0},\n",
              "  {'bee-A': 0.021862878044547437, 'bee-B': 0.0},\n",
              "  {'bee-A': 0.01735727166791165, 'bee-B': 0.0},\n",
              "  {'bee-A': 0.025767047784090648, 'bee-B': 0.0},\n",
              "  {'bee-A': 0.014492238589175848, 'bee-B': 0.0},\n",
              "  {'bee-A': 0.012411401411234856, 'bee-B': 0.0},\n",
              "  {'bee-A': 0.02089821873221162, 'bee-B': 0.0},\n",
              "  {'bee-A': 0.02252358656632375, 'bee-B': 0.0},\n",
              "  {'bee-A': 0.01667530471723767, 'bee-B': 0.0},\n",
              "  {'bee-A': 0.017428155203399964, 'bee-B': 0.0},\n",
              "  {'bee-A': 0.027157098410415, 'bee-B': 0.0},\n",
              "  {'bee-A': 0.011542911674570031, 'bee-B': 0.0},\n",
              "  {'bee-A': 0.00584007360737251, 'bee-B': 0.0},\n",
              "  0,\n",
              "  0,\n",
              "  0,\n",
              "  {'bee-A': 0.002851458885941645, 'bee-B': 0.0},\n",
              "  {'bee-A': 0.0003315649867374005, 'bee-B': 0.0},\n",
              "  {'bee-A': 0.0, 'bee-B': 0.0},\n",
              "  {'bee-A': 0.0, 'bee-B': 0.0},\n",
              "  {'bee-A': 0.003138815207780726, 'bee-B': 0.0},\n",
              "  {'bee-A': 0.006808316572905432, 'bee-B': 0.0},\n",
              "  {'bee-A': 0.006576663971452096, 'bee-B': 0.0},\n",
              "  {'bee-A': 0.01321919862645721, 'bee-B': 0.0},\n",
              "  {'bee-A': 0.020956577639743058, 'bee-B': 0.0},\n",
              "  {'bee-A': 0.016120751197308464, 'bee-B': 0.0},\n",
              "  {'bee-A': 0.020069870305709225, 'bee-B': 0.0},\n",
              "  {'bee-A': 0.02531267333527943, 'bee-B': 0.0},\n",
              "  {'bee-A': 0.022580968209787115, 'bee-B': 0.0},\n",
              "  {'bee-A': 0.02372764538057826, 'bee-B': 0.0},\n",
              "  {'bee-A': 0.032407972920325316, 'bee-B': 0.0},\n",
              "  {'bee-A': 0.04070780023903593, 'bee-B': 0.0},\n",
              "  {'bee-A': 0.05003144729682667, 'bee-B': 0.0},\n",
              "  {'bee-A': 0.053578760809323375, 'bee-B': 0.0},\n",
              "  {'bee-A': 0.04428669855675496, 'bee-B': 0.0},\n",
              "  {'bee-A': 0.04108876149938232, 'bee-B': 0.0},\n",
              "  {'bee-A': 0.044656081020553746, 'bee-B': 0.0},\n",
              "  {'bee-A': 0.05330822824026618, 'bee-B': 0.0},\n",
              "  {'bee-A': 0.06898481795848926, 'bee-B': 0.007758620689655172},\n",
              "  {'bee-A': 0.04196027224779399, 'bee-B': 0.004310344827586207},\n",
              "  {'bee-A': 0.050394381349630736, 'bee-B': 0.00646551724137931},\n",
              "  {'bee-A': 0.060073503342233756, 'bee-B': 0.0},\n",
              "  {'bee-A': 0.05128048786219018, 'bee-B': 0.0021551724137931034},\n",
              "  {'bee-A': 0.05290787245854019, 'bee-B': 0.009852216748768473},\n",
              "  {'bee-A': 0.07466567608652461, 'bee-B': 0.004310344827586207},\n",
              "  {'bee-A': 0.045610815784331786, 'bee-B': 0.0125},\n",
              "  0,\n",
              "  {'bee-A': 0.023853513214871874, 'bee-B': 0.02089864158829676},\n",
              "  {'bee-A': 0.027148691218147336, 'bee-B': 0.004310344827586207},\n",
              "  {'bee-A': 0.03712060686765174, 'bee-B': 0.004310344827586207},\n",
              "  {'bee-A': 0.06593462000765425, 'bee-B': 0.01293103448275862},\n",
              "  {'bee-A': 0.08838241181637416, 'bee-B': 0.015517241379310345},\n",
              "  {'bee-A': 0.10973476601986398, 'bee-B': 0.03663793103448276},\n",
              "  {'bee-A': 0.12080578505026839, 'bee-B': 0.039532019704433506},\n",
              "  {'bee-A': 0.12111572883100162, 'bee-B': 0.04792339052148802},\n",
              "  {'bee-A': 0.12529559796650352, 'bee-B': 0.02848538434745331},\n",
              "  {'bee-A': 0.11925608680130557, 'bee-B': 0.030121793914897367},\n",
              "  {'bee-A': 0.12890749851543, 'bee-B': 0.02188697318007663},\n",
              "  {'bee-A': 0.1341571207348879, 'bee-B': 0.03636162687886826},\n",
              "  {'bee-A': 0.14420909322805234, 'bee-B': 0.05097701149425288},\n",
              "  {'bee-A': 0.14746834145624504, 'bee-B': 0.025839382940108895},\n",
              "  {'bee-A': 0.12791794530677847, 'bee-B': 0.015712730755834205},\n",
              "  {'bee-A': 0.12850990216998137, 'bee-B': 0.023245073891625615},\n",
              "  {'bee-A': 0.1304432909322987, 'bee-B': 0.04458842550564153},\n",
              "  {'bee-A': 0.12808093761517841, 'bee-B': 0.040989049394221815},\n",
              "  {'bee-A': 0.1317669590910962, 'bee-B': 0.07776183314976419},\n",
              "  {'bee-A': 0.14427385163319845, 'bee-B': 0.11785752391595841},\n",
              "  {'bee-A': 0.14993969225385703, 'bee-B': 0.15423831479459024},\n",
              "  {'bee-A': 0.14989990645963142, 'bee-B': 0.21707654308994667},\n",
              "  {'bee-A': 0.15284486053808627, 'bee-B': 0.24213634445720364},\n",
              "  {'bee-A': 0.14939472778404728, 'bee-B': 0.2802601041376559},\n",
              "  {'bee-A': 0.17093456142737168, 'bee-B': 0.26793936508958927},\n",
              "  {'bee-A': 0.13990782310096828, 'bee-B': 0.2408850427765568},\n",
              "  {'bee-A': 0.1420938452110988, 'bee-B': 0.27768462938618343},\n",
              "  {'bee-A': 0.17030614646941003, 'bee-B': 0.2964145359458161},\n",
              "  {'bee-A': 0.1846238422539215, 'bee-B': 0.27075896064851185},\n",
              "  {'bee-A': 0.18107820948851192, 'bee-B': 0.25259934390782923},\n",
              "  {'bee-A': 0.1815941890221485, 'bee-B': 0.2589815635904371},\n",
              "  {'bee-A': 0.17699279863736525, 'bee-B': 0.2038169894420239},\n",
              "  {'bee-A': 0.1761387358249682, 'bee-B': 0.20958675490334408},\n",
              "  {'bee-A': 0.15232545646541423, 'bee-B': 0.26673596172072755},\n",
              "  {'bee-A': 0.1689722568742865, 'bee-B': 0.24863203721980107},\n",
              "  {'bee-A': 0.12952432140635267, 'bee-B': 0.20968629244728468},\n",
              "  0,\n",
              "  {'bee-A': 0.06635866369382554, 'bee-B': 0.1485927837687927},\n",
              "  {'bee-A': 0.09742737606052823, 'bee-B': 0.13500156500464383},\n",
              "  {'bee-A': 0.16737452036851314, 'bee-B': 0.2872126858054723},\n",
              "  {'bee-A': 0.17849838371341695, 'bee-B': 0.2904700381065144},\n",
              "  {'bee-A': 0.17100912549070008, 'bee-B': 0.27697131051855806},\n",
              "  {'bee-A': 0.16178159627906993, 'bee-B': 0.267166862004808},\n",
              "  {'bee-A': 0.1708714288156965, 'bee-B': 0.267036827257817},\n",
              "  {'bee-A': 0.17097209051596585, 'bee-B': 0.2710284916412876},\n",
              "  {'bee-A': 0.17638902578879623, 'bee-B': 0.2652934111232885},\n",
              "  {'bee-A': 0.16176340077481327, 'bee-B': 0.29206745693954195},\n",
              "  {'bee-A': 0.1796343425744185, 'bee-B': 0.28893631696624356},\n",
              "  {'bee-A': 0.17616030131711502, 'bee-B': 0.26248407928381207},\n",
              "  {'bee-A': 0.1715256655099342, 'bee-B': 0.27555042834381954},\n",
              "  {'bee-A': 0.16622294203250101, 'bee-B': 0.26765872181806927},\n",
              "  {'bee-A': 0.1681320150971508, 'bee-B': 0.2842054052023311},\n",
              "  {'bee-A': 0.16383039376624475, 'bee-B': 0.2958711161089912},\n",
              "  {'bee-A': 0.15767916867520276, 'bee-B': 0.26748319467536125},\n",
              "  {'bee-A': 0.18050499370759476, 'bee-B': 0.323443919479779},\n",
              "  {'bee-A': 0.17387646615048702, 'bee-B': 0.2882225119994432},\n",
              "  {'bee-A': 0.19154741972900116, 'bee-B': 0.3165496621183876},\n",
              "  {'bee-A': 0.17303633667170745, 'bee-B': 0.27549132887876887},\n",
              "  {'bee-A': 0.1703130565426378, 'bee-B': 0.25705600077896534},\n",
              "  {'bee-A': 0.17961596794156823, 'bee-B': 0.2527464492823203},\n",
              "  {'bee-A': 0.15310776640286589, 'bee-B': 0.2788154005550226},\n",
              "  {'bee-A': 0.17942164095755003, 'bee-B': 0.2593318597349013},\n",
              "  {'bee-A': 0.18316386663980877, 'bee-B': 0.24438337572463065},\n",
              "  {'bee-A': 0.16958951513029247, 'bee-B': 0.27309792557633644},\n",
              "  {'bee-A': 0.16858265412528006, 'bee-B': 0.2840632482343909},\n",
              "  {'bee-A': 0.17840213575906322, 'bee-B': 0.26678075014410496},\n",
              "  {'bee-A': 0.17881696632286148, 'bee-B': 0.2954095804810603},\n",
              "  {'bee-A': 0.15798662878432562, 'bee-B': 0.290113030914925},\n",
              "  {'bee-A': 0.1690744681417971, 'bee-B': 0.27644829266331905},\n",
              "  {'bee-A': 0.10147696966374306, 'bee-B': 0.2881371461106785},\n",
              "  0,\n",
              "  0,\n",
              "  {'bee-A': 0.08768663666919438, 'bee-B': 0.12408756046687079},\n",
              "  {'bee-A': 0.10450359087408687, 'bee-B': 0.1627447246258694},\n",
              "  {'bee-A': 0.1304838928503187, 'bee-B': 0.15781650825119606},\n",
              "  {'bee-A': 0.14167465323312586, 'bee-B': 0.16758656345954365},\n",
              "  {'bee-A': 0.17019689058818213, 'bee-B': 0.16966425220198134},\n",
              "  {'bee-A': 0.18105404220587754, 'bee-B': 0.18674559489746956},\n",
              "  {'bee-A': 0.17273036394835317, 'bee-B': 0.19989846796528565},\n",
              "  {'bee-A': 0.17972694734364236, 'bee-B': 0.18523135210935215},\n",
              "  {'bee-A': 0.18459483500775864, 'bee-B': 0.18500483649798755},\n",
              "  {'bee-A': 0.17797978922511443, 'bee-B': 0.20161064477028331},\n",
              "  {'bee-A': 0.1952992322031335, 'bee-B': 0.2358168567624546},\n",
              "  {'bee-A': 0.18158878584604354, 'bee-B': 0.23482047983805004},\n",
              "  {'bee-A': 0.1986793642978904, 'bee-B': 0.2197541326963588},\n",
              "  {'bee-A': 0.20831481508116556, 'bee-B': 0.22543370326798196},\n",
              "  {'bee-A': 0.20502630818070905, 'bee-B': 0.2377176003444988},\n",
              "  {'bee-A': 0.1956811647399912, 'bee-B': 0.2210358465531163},\n",
              "  {'bee-A': 0.21632220268248653, 'bee-B': 0.2003624508117091},\n",
              "  {'bee-A': 0.19210426469559252, 'bee-B': 0.22325036314769792},\n",
              "  {'bee-A': 0.2321349523682173, 'bee-B': 0.26860498836102853},\n",
              "  {'bee-A': 0.23278904176154552, 'bee-B': 0.25592412682131144},\n",
              "  {'bee-A': 0.24347600183218893, 'bee-B': 0.23485811417915103},\n",
              "  {'bee-A': 0.23153308282422477, 'bee-B': 0.25344561760547396},\n",
              "  {'bee-A': 0.21690487249641346, 'bee-B': 0.28378592190605795},\n",
              "  {'bee-A': 0.24737120291145198, 'bee-B': 0.2787516569768188},\n",
              "  {'bee-A': 0.23599982513450612, 'bee-B': 0.3000307878962676},\n",
              "  {'bee-A': 0.24638873354547353, 'bee-B': 0.2676360669696933},\n",
              "  {'bee-A': 0.2304297201667665, 'bee-B': 0.2533351012300702},\n",
              "  {'bee-A': 0.2383019471058207, 'bee-B': 0.25045892929931673},\n",
              "  {'bee-A': 0.254524337726862, 'bee-B': 0.2845644425489648},\n",
              "  {'bee-A': 0.2521855249260118, 'bee-B': 0.2702394057415061},\n",
              "  {'bee-A': 0.2440398711905457, 'bee-B': 0.24545382746991207},\n",
              "  {'bee-A': 0.23323364083618436, 'bee-B': 0.26361098432655405},\n",
              "  {'bee-A': 0.26338248042396206, 'bee-B': 0.27166728701483916},\n",
              "  {'bee-A': 0.24772544329903382, 'bee-B': 0.2537073337455727},\n",
              "  {'bee-A': 0.24644088263497999, 'bee-B': 0.2614221958786528},\n",
              "  {'bee-A': 0.2517641766068431, 'bee-B': 0.26663083067666576},\n",
              "  {'bee-A': 0.25456374008465094, 'bee-B': 0.2514821790178355},\n",
              "  {'bee-A': 0.24187065494353896, 'bee-B': 0.24439149839222793},\n",
              "  {'bee-A': 0.258008015252157, 'bee-B': 0.26981020538584977}],\n",
              " 'train_loss': [0.1727439535005639,\n",
              "  0.1546684303476165,\n",
              "  0.14148656346369534,\n",
              "  0.1334112897515297,\n",
              "  0.12177151331367592,\n",
              "  0.1219370454394569,\n",
              "  0.1194706350720177,\n",
              "  0.11172623990569264,\n",
              "  0.10459763680895169,\n",
              "  0.10250707124359906,\n",
              "  0.10718060793975989,\n",
              "  0.09860050209487478,\n",
              "  0.08538379805007329,\n",
              "  0.0799758562585339,\n",
              "  0.07613351978361607,\n",
              "  0.08357969084754586,\n",
              "  0.07286620639109363,\n",
              "  0.0646974308649078,\n",
              "  0.06019717430851112,\n",
              "  0.054081824414121606,\n",
              "  0.0474901319326212,\n",
              "  0.04461572190436224,\n",
              "  0.03993053136703869,\n",
              "  0.034581372328102586,\n",
              "  0.03225126926942418,\n",
              "  0.02719561569392681,\n",
              "  0.026263948219517868,\n",
              "  0.025049648884062966,\n",
              "  0.026013701176270842,\n",
              "  0.027200317879517873,\n",
              "  0.028010763856582344,\n",
              "  0.02662641550414264,\n",
              "  0.02376717560691759,\n",
              "  0.020950109069235622,\n",
              "  0.018442906621688356,\n",
              "  0.018206959784341354,\n",
              "  0.018932897128009548,\n",
              "  0.018266516675551733,\n",
              "  0.018779616166527072,\n",
              "  0.019424356415402143,\n",
              "  0.018959513423033057,\n",
              "  0.02845272036890189,\n",
              "  0.04963879274825255,\n",
              "  0.25962852804611125,\n",
              "  0.2449297438375652,\n",
              "  0.18848519502207636,\n",
              "  0.13672361885352682,\n",
              "  0.10409340238353858,\n",
              "  0.09579959325492382,\n",
              "  0.080213163793087,\n",
              "  0.0634907373925671,\n",
              "  0.051691512150379516,\n",
              "  0.041592083118545516,\n",
              "  0.0388445504863436,\n",
              "  0.03330992724125584,\n",
              "  0.026881436840631066,\n",
              "  0.024963081620323162,\n",
              "  0.022773648352206997,\n",
              "  0.021567782495791714,\n",
              "  0.01997110291461771,\n",
              "  0.019210216655240704,\n",
              "  0.018671688619845857,\n",
              "  0.020121634018141776,\n",
              "  0.01958190354829033,\n",
              "  0.018819110561162235,\n",
              "  0.018368244039205214,\n",
              "  0.016551173590899755,\n",
              "  0.016490847322468957,\n",
              "  0.016660765372216703,\n",
              "  0.017133712221402676,\n",
              "  0.019318462737525504,\n",
              "  0.019671675679273904,\n",
              "  0.019059072683254876,\n",
              "  0.022386158583685756,\n",
              "  0.024426942062564194,\n",
              "  0.04634552548329036,\n",
              "  0.17779347800339262,\n",
              "  0.1373939310821394,\n",
              "  0.08403350098524243,\n",
              "  0.05998853074464326,\n",
              "  0.04351846266848346,\n",
              "  0.03365332829222704,\n",
              "  0.027109258280446132,\n",
              "  0.021984652732498944,\n",
              "  0.019043020356912167,\n",
              "  0.015232151401384423,\n",
              "  0.01533598474925384,\n",
              "  0.015454748447518795,\n",
              "  0.016530235313499966,\n",
              "  0.017270275768047818,\n",
              "  0.017888207097227375,\n",
              "  0.016499373809589695,\n",
              "  0.013925604725955054,\n",
              "  0.012307436007540673,\n",
              "  0.011373642707864444,\n",
              "  0.010860839831487586,\n",
              "  0.010662546367772545,\n",
              "  0.010674967133672908,\n",
              "  0.011525568965589627,\n",
              "  0.011891269678017125,\n",
              "  0.012576413084752857,\n",
              "  0.011437264721219738,\n",
              "  0.011306774309681107,\n",
              "  0.01127629328208665,\n",
              "  0.012118302322536086,\n",
              "  0.012776458030566573,\n",
              "  0.01319022053697457,\n",
              "  0.014492093729010473,\n",
              "  0.015270324288091311,\n",
              "  0.014857372616340096,\n",
              "  0.016778056416660546,\n",
              "  0.017738489599044744,\n",
              "  0.07240886002934227,\n",
              "  0.19058741624467074,\n",
              "  0.11703785138670356,\n",
              "  0.06560882191794613,\n",
              "  0.012573372068194052,\n",
              "  0.008613570467180883,\n",
              "  0.006406494188801541,\n",
              "  0.005431342709440893,\n",
              "  0.005288010980681671,\n",
              "  0.005287788600981003,\n",
              "  0.005582181143593819,\n",
              "  0.006424801060347818,\n",
              "  0.006828787077877981,\n",
              "  0.007119321302161552,\n",
              "  0.0073477727147595335,\n",
              "  0.008030115640334163,\n",
              "  0.0063847784942481665,\n",
              "  0.006768354218608389,\n",
              "  0.008382501530771453,\n",
              "  0.010463909758254886,\n",
              "  0.011899624080009137,\n",
              "  0.011543082176164414,\n",
              "  0.010518802948839341,\n",
              "  0.010312393732601777,\n",
              "  0.01069700655255777,\n",
              "  0.010549271339550614,\n",
              "  0.010635351337259635,\n",
              "  0.010538792423903941,\n",
              "  0.010181118043450017,\n",
              "  0.00958688702667132,\n",
              "  0.009265678430286547,\n",
              "  0.009161368988376732,\n",
              "  0.010815989503559347,\n",
              "  0.014787566980036597,\n",
              "  0.020232683012727647,\n",
              "  0.15713239658119468,\n",
              "  0.17279084298449257,\n",
              "  0.10354183970484883,\n",
              "  0.06712876928504556,\n",
              "  0.04711375255913784,\n",
              "  0.031401305560333034,\n",
              "  0.02363468351153036,\n",
              "  0.01756340767024085,\n",
              "  0.013801410316955299,\n",
              "  0.011879267419377964,\n",
              "  0.0126420404529199,\n",
              "  0.013260259913901487,\n",
              "  0.012885874108178541,\n",
              "  0.013126672336754078,\n",
              "  0.012519826119144758,\n",
              "  0.01190693186945282,\n",
              "  0.011572454951237886,\n",
              "  0.010543468530522659,\n",
              "  0.010370558083135013,\n",
              "  0.01013083096477203,\n",
              "  0.010046459319225202,\n",
              "  0.011000576087584098,\n",
              "  0.010889380970426524,\n",
              "  0.010519041476072744,\n",
              "  0.010816676256945356,\n",
              "  0.010669653216609731,\n",
              "  0.010337402198153238,\n",
              "  0.010414358315756544,\n",
              "  0.010778220719657838,\n",
              "  0.010517890572858353,\n",
              "  0.010612445020039255,\n",
              "  0.009730392267617087,\n",
              "  0.009493116081769889,\n",
              "  0.009600355371367187,\n",
              "  0.009402141122457882,\n",
              "  0.009270552425490072,\n",
              "  0.00952806828621154,\n",
              "  0.009796974937974786,\n",
              "  0.009861232340335846,\n",
              "  0.009723616911408802,\n",
              "  0.009518389805452897],\n",
              " 'val_loss': [0.29437292938431103,\n",
              "  0.30768712957700095,\n",
              "  0.3093689906100432,\n",
              "  0.337495356798172,\n",
              "  0.3420706480741501,\n",
              "  0.34321254789829253,\n",
              "  0.3323646823565165,\n",
              "  0.3266682614882787,\n",
              "  0.33649512951572735,\n",
              "  0.3254975485304991,\n",
              "  0.3386041676004728,\n",
              "  0.3209808255235354,\n",
              "  0.315303236246109,\n",
              "  0.3075208939611912,\n",
              "  0.3247471585869789,\n",
              "  0.32488961666822436,\n",
              "  0.33770371104280156,\n",
              "  0.3575468768676122,\n",
              "  0.33858738765120505,\n",
              "  0.3412199685970942,\n",
              "  0.3323384280006091,\n",
              "  0.3348073129852613,\n",
              "  0.3406144437690576,\n",
              "  0.3390912550191085,\n",
              "  0.33805638998746873,\n",
              "  0.3384725399315357,\n",
              "  0.33907839134335516,\n",
              "  0.3388555792470773,\n",
              "  0.3452328912913799,\n",
              "  0.33727804323037464,\n",
              "  0.325177197655042,\n",
              "  0.3281056309739749,\n",
              "  0.33187980204820633,\n",
              "  0.3344402392705282,\n",
              "  0.3501102089881897,\n",
              "  0.33715708007415135,\n",
              "  0.3492910993595918,\n",
              "  0.3407674873868624,\n",
              "  0.3627802257736524,\n",
              "  0.3324144003291925,\n",
              "  0.34638524055480957,\n",
              "  0.34820809960365295,\n",
              "  0.47846435060103737,\n",
              "  0.4374820917844772,\n",
              "  0.2660469926893711,\n",
              "  0.25485004608829814,\n",
              "  0.28920800338188807,\n",
              "  0.2851100616157055,\n",
              "  0.29400555541117984,\n",
              "  0.2832375897715489,\n",
              "  0.2926171618203322,\n",
              "  0.2945411371688048,\n",
              "  0.3048608268300692,\n",
              "  0.28439769595861436,\n",
              "  0.2844646453857422,\n",
              "  0.29838208481669426,\n",
              "  0.29071038340528804,\n",
              "  0.3008557565510273,\n",
              "  0.28735039656360944,\n",
              "  0.2974573401113351,\n",
              "  0.28570736994345985,\n",
              "  0.29377600848674773,\n",
              "  0.2842613177994887,\n",
              "  0.2876725234091282,\n",
              "  0.28116025775671005,\n",
              "  0.2911156771083673,\n",
              "  0.28817352280020714,\n",
              "  0.2797633208334446,\n",
              "  0.2823359622309605,\n",
              "  0.288985051587224,\n",
              "  0.29045940190553665,\n",
              "  0.29678034521639346,\n",
              "  0.3047240753968557,\n",
              "  0.2985924063871304,\n",
              "  0.29291217898329097,\n",
              "  0.33199538215994834,\n",
              "  0.35344480151931446,\n",
              "  0.28985805561145145,\n",
              "  0.26519683996836346,\n",
              "  0.2774157583713531,\n",
              "  0.27947014148036636,\n",
              "  0.28283636619647345,\n",
              "  0.27512562250097594,\n",
              "  0.2778258569538593,\n",
              "  0.28350356593728065,\n",
              "  0.29111697201927506,\n",
              "  0.29003282884756726,\n",
              "  0.29004185597101845,\n",
              "  0.28478669238587223,\n",
              "  0.27351051693161327,\n",
              "  0.27496484890580175,\n",
              "  0.28494540477792424,\n",
              "  0.2861036233603954,\n",
              "  0.2792344550291697,\n",
              "  0.28292971725265187,\n",
              "  0.2805447625617186,\n",
              "  0.2872167152663072,\n",
              "  0.2848045283307632,\n",
              "  0.27926098853349685,\n",
              "  0.2837122157216072,\n",
              "  0.2738999182979266,\n",
              "  0.276434838026762,\n",
              "  0.28228168512384094,\n",
              "  0.2790406913806995,\n",
              "  0.2789121507356564,\n",
              "  0.27123289592564104,\n",
              "  0.2795731496065855,\n",
              "  0.2740118822703759,\n",
              "  0.2970201895882686,\n",
              "  0.2997460842132568,\n",
              "  0.2906247615814209,\n",
              "  0.29781660822530587,\n",
              "  0.27916397849718727,\n",
              "  0.27446749558051425,\n",
              "  0.27625052171448866,\n",
              "  0.2825396716594696,\n",
              "  0.2625084015230338,\n",
              "  0.2616461552679539,\n",
              "  0.26623899936676027,\n",
              "  0.26848601053158444,\n",
              "  0.2693514615297318,\n",
              "  0.27074178035060564,\n",
              "  0.27020678917566937,\n",
              "  0.2662748222549756,\n",
              "  0.26634419386585556,\n",
              "  0.26780396153529484,\n",
              "  0.2653555671374003,\n",
              "  0.26609789455930394,\n",
              "  0.2658522203564644,\n",
              "  0.2628210946917534,\n",
              "  0.26492900401353836,\n",
              "  0.26317981791992984,\n",
              "  0.2606886795411507,\n",
              "  0.26349314525723455,\n",
              "  0.26474657356739045,\n",
              "  0.26260202104846636,\n",
              "  0.26256491219003997,\n",
              "  0.25820405210057895,\n",
              "  0.2627710562199354,\n",
              "  0.2655350043127934,\n",
              "  0.26415011237064995,\n",
              "  0.2744485301276048,\n",
              "  0.2727251308659712,\n",
              "  0.2685858176400264,\n",
              "  0.25992296760280925,\n",
              "  0.2856251190106074,\n",
              "  0.2843451678752899,\n",
              "  0.40849162166317304,\n",
              "  0.27084487626949943,\n",
              "  0.2693203921119372,\n",
              "  0.26093595909575623,\n",
              "  0.2717666222403447,\n",
              "  0.26835541675488156,\n",
              "  0.268549424658219,\n",
              "  0.2765288093437751,\n",
              "  0.28503280120591323,\n",
              "  0.2837978692104419,\n",
              "  0.2858249158908924,\n",
              "  0.28131623814503354,\n",
              "  0.28542239479720594,\n",
              "  0.27620194281140964,\n",
              "  0.28492598595718543,\n",
              "  0.28076346094409627,\n",
              "  0.2828192466249069,\n",
              "  0.2871636002014081,\n",
              "  0.2798155490309,\n",
              "  0.2714020854483048,\n",
              "  0.26775338674585025,\n",
              "  0.2574710597594579,\n",
              "  0.26534384389718374,\n",
              "  0.26270820796489713,\n",
              "  0.2612349374840657,\n",
              "  0.26380541125933327,\n",
              "  0.2563210350771745,\n",
              "  0.2599184640993675,\n",
              "  0.2594210802266995,\n",
              "  0.26261527302364507,\n",
              "  0.2549533830334743,\n",
              "  0.2560616155465444,\n",
              "  0.2674874283373356,\n",
              "  0.2644151003410419,\n",
              "  0.2535410222907861,\n",
              "  0.26660724692046645,\n",
              "  0.25289393750329814,\n",
              "  0.26381178150574364,\n",
              "  0.2689249459654093,\n",
              "  0.2630696125328541,\n",
              "  0.2594508331269026]}"
            ]
          },
          "metadata": {
            "tags": []
          },
          "execution_count": 31
        }
      ]
    },
    {
      "cell_type": "markdown",
      "metadata": {
        "id": "_Kd58h-CgpQF",
        "colab_type": "text"
      },
      "source": [
        "### **5. Evaluate Model**"
      ]
    },
    {
      "cell_type": "code",
      "metadata": {
        "id": "71ui09DUnJQm",
        "colab_type": "code",
        "outputId": "7e4b5dd7-0cfb-4743-b5f5-31fa740347b8",
        "colab": {
          "base_uri": "https://localhost:8080/",
          "height": 134
        }
      },
      "source": [
        "base_net.evaluate(model, test_imgs, obj_threshold=0.025, nms_threshold=0.2, iou_threshold=0.1)\n",
        "# map_callback.average_map"
      ],
      "execution_count": 0,
      "outputs": [
        {
          "output_type": "stream",
          "text": [
            "bee-A 0.6630\n",
            "bee-B 0.5594\n",
            "mAP: 0.6112\n",
            "average IOU: 0.1851\n"
          ],
          "name": "stdout"
        },
        {
          "output_type": "execute_result",
          "data": {
            "text/plain": [
              "[0.6111783675341442,\n",
              " {'bee-A': 0.6629822104039513, 'bee-B': 0.5593745246643371},\n",
              " 0.18512859591799483]"
            ]
          },
          "metadata": {
            "tags": []
          },
          "execution_count": 16
        }
      ]
    },
    {
      "cell_type": "markdown",
      "metadata": {
        "id": "pgxFBetKPYL3",
        "colab_type": "text"
      },
      "source": [
        "### **6. Test on Images**"
      ]
    },
    {
      "cell_type": "code",
      "metadata": {
        "id": "ZAasVUHjPi-k",
        "colab_type": "code",
        "colab": {}
      },
      "source": [
        "import cv2\n",
        "from google.colab.patches import cv2_imshow\n",
        "import numpy as np"
      ],
      "execution_count": 0,
      "outputs": []
    },
    {
      "cell_type": "code",
      "metadata": {
        "id": "0DT9fLrYC0w8",
        "colab_type": "code",
        "colab": {}
      },
      "source": [
        "image = cv2.imread('frame-315.jpg')\n",
        "predicted_image = base_net.predict_boxes(model, image, obj_threshold=0.035, nms_threshold=0.4)\n",
        "\n",
        "cv2_imshow(image)"
      ],
      "execution_count": 0,
      "outputs": []
    },
    {
      "cell_type": "code",
      "metadata": {
        "id": "UqN4baeqFOrG",
        "colab_type": "code",
        "colab": {}
      },
      "source": [
        "model.save('Final Model Weights/resnet18-aug-1056-mardi-labelled-twotypes200-bee-model.h5')\n",
        "model.save_weights('Final Model Weights/resnet18-aug-1056-mardi-labelled-twotypes200-bee-weights.h5')"
      ],
      "execution_count": 0,
      "outputs": []
    }
  ]
}